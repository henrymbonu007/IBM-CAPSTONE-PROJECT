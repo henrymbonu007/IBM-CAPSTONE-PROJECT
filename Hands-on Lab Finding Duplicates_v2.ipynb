{
 "cells": [
  {
   "cell_type": "markdown",
   "metadata": {},
   "source": [
    "<p style=\"text-align:center\">\n",
    "    <a href=\"https://skills.network\" target=\"_blank\">\n",
    "    <img src=\"https://cf-courses-data.s3.us.cloud-object-storage.appdomain.cloud/assets/logos/SN_web_lightmode.png\" width=\"200\" alt=\"Skills Network Logo\"  />\n",
    "    </a>\n",
    "</p>\n"
   ]
  },
  {
   "cell_type": "markdown",
   "metadata": {},
   "source": [
    "# **Finding Duplicates Lab**\n"
   ]
  },
  {
   "cell_type": "markdown",
   "metadata": {},
   "source": [
    "Estimated time needed: **30** minutes\n"
   ]
  },
  {
   "cell_type": "markdown",
   "metadata": {},
   "source": [
    "## Introduction\n"
   ]
  },
  {
   "cell_type": "markdown",
   "metadata": {},
   "source": [
    "Data wrangling is a critical step in preparing datasets for analysis, and handling duplicates plays a key role in ensuring data accuracy. In this lab, you will focus on identifying and removing duplicate entries from your dataset. \n"
   ]
  },
  {
   "cell_type": "markdown",
   "metadata": {},
   "source": [
    "## Objectives\n"
   ]
  },
  {
   "cell_type": "markdown",
   "metadata": {},
   "source": [
    "In this lab, you will perform the following:\n"
   ]
  },
  {
   "cell_type": "markdown",
   "metadata": {},
   "source": [
    "1. Identify duplicate rows in the dataset and analyze their characteristics.\n",
    "2. Visualize the distribution of duplicates based on key attributes.\n",
    "3. Remove duplicate values strategically based on specific criteria.\n",
    "4. Outline the process of verifying and documenting duplicate removal.\n"
   ]
  },
  {
   "cell_type": "markdown",
   "metadata": {},
   "source": [
    "## Hands on Lab\n"
   ]
  },
  {
   "cell_type": "markdown",
   "metadata": {},
   "source": [
    "Install the needed library\n"
   ]
  },
  {
   "cell_type": "code",
   "execution_count": 1,
   "metadata": {},
   "outputs": [
    {
     "name": "stdout",
     "output_type": "stream",
     "text": [
      "Requirement already satisfied: pandas in /opt/conda/lib/python3.12/site-packages (2.2.3)\n",
      "Requirement already satisfied: numpy>=1.26.0 in /opt/conda/lib/python3.12/site-packages (from pandas) (2.2.2)\n",
      "Requirement already satisfied: python-dateutil>=2.8.2 in /opt/conda/lib/python3.12/site-packages (from pandas) (2.9.0.post0)\n",
      "Requirement already satisfied: pytz>=2020.1 in /opt/conda/lib/python3.12/site-packages (from pandas) (2024.2)\n",
      "Requirement already satisfied: tzdata>=2022.7 in /opt/conda/lib/python3.12/site-packages (from pandas) (2025.1)\n",
      "Requirement already satisfied: six>=1.5 in /opt/conda/lib/python3.12/site-packages (from python-dateutil>=2.8.2->pandas) (1.17.0)\n",
      "Requirement already satisfied: matplotlib in /opt/conda/lib/python3.12/site-packages (3.10.0)\n",
      "Requirement already satisfied: contourpy>=1.0.1 in /opt/conda/lib/python3.12/site-packages (from matplotlib) (1.3.1)\n",
      "Requirement already satisfied: cycler>=0.10 in /opt/conda/lib/python3.12/site-packages (from matplotlib) (0.12.1)\n",
      "Requirement already satisfied: fonttools>=4.22.0 in /opt/conda/lib/python3.12/site-packages (from matplotlib) (4.55.4)\n",
      "Requirement already satisfied: kiwisolver>=1.3.1 in /opt/conda/lib/python3.12/site-packages (from matplotlib) (1.4.8)\n",
      "Requirement already satisfied: numpy>=1.23 in /opt/conda/lib/python3.12/site-packages (from matplotlib) (2.2.2)\n",
      "Requirement already satisfied: packaging>=20.0 in /opt/conda/lib/python3.12/site-packages (from matplotlib) (24.2)\n",
      "Requirement already satisfied: pillow>=8 in /opt/conda/lib/python3.12/site-packages (from matplotlib) (11.1.0)\n",
      "Requirement already satisfied: pyparsing>=2.3.1 in /opt/conda/lib/python3.12/site-packages (from matplotlib) (3.2.1)\n",
      "Requirement already satisfied: python-dateutil>=2.7 in /opt/conda/lib/python3.12/site-packages (from matplotlib) (2.9.0.post0)\n",
      "Requirement already satisfied: six>=1.5 in /opt/conda/lib/python3.12/site-packages (from python-dateutil>=2.7->matplotlib) (1.17.0)\n"
     ]
    }
   ],
   "source": [
    "!pip install pandas\n",
    "!pip install matplotlib"
   ]
  },
  {
   "cell_type": "markdown",
   "metadata": {},
   "source": [
    "Import pandas module\n"
   ]
  },
  {
   "cell_type": "code",
   "execution_count": 2,
   "metadata": {},
   "outputs": [],
   "source": [
    "import pandas as pd\n"
   ]
  },
  {
   "cell_type": "markdown",
   "metadata": {},
   "source": [
    "Import matplotlib\n"
   ]
  },
  {
   "cell_type": "code",
   "execution_count": 3,
   "metadata": {},
   "outputs": [],
   "source": [
    "import matplotlib.pyplot as plt"
   ]
  },
  {
   "cell_type": "markdown",
   "metadata": {},
   "source": [
    "## **Load the dataset into a dataframe**\n"
   ]
  },
  {
   "cell_type": "markdown",
   "metadata": {},
   "source": [
    "<h2>Read Data</h2>\n",
    "<p>\n",
    "We utilize the <code>pandas.read_csv()</code> function for reading CSV files. However, in this version of the lab, which operates on JupyterLite, the dataset needs to be downloaded to the interface using the provided code below.\n",
    "</p>\n"
   ]
  },
  {
   "cell_type": "code",
   "execution_count": 4,
   "metadata": {},
   "outputs": [
    {
     "name": "stdout",
     "output_type": "stream",
     "text": [
      "   ResponseId                      MainBranch                 Age  \\\n",
      "0           1  I am a developer by profession  Under 18 years old   \n",
      "1           2  I am a developer by profession     35-44 years old   \n",
      "2           3  I am a developer by profession     45-54 years old   \n",
      "3           4           I am learning to code     18-24 years old   \n",
      "4           5  I am a developer by profession     18-24 years old   \n",
      "\n",
      "            Employment RemoteWork   Check  \\\n",
      "0  Employed, full-time     Remote  Apples   \n",
      "1  Employed, full-time     Remote  Apples   \n",
      "2  Employed, full-time     Remote  Apples   \n",
      "3   Student, full-time        NaN  Apples   \n",
      "4   Student, full-time        NaN  Apples   \n",
      "\n",
      "                                    CodingActivities  \\\n",
      "0                                              Hobby   \n",
      "1  Hobby;Contribute to open-source projects;Other...   \n",
      "2  Hobby;Contribute to open-source projects;Other...   \n",
      "3                                                NaN   \n",
      "4                                                NaN   \n",
      "\n",
      "                                             EdLevel  \\\n",
      "0                          Primary/elementary school   \n",
      "1       Bachelor’s degree (B.A., B.S., B.Eng., etc.)   \n",
      "2    Master’s degree (M.A., M.S., M.Eng., MBA, etc.)   \n",
      "3  Some college/university study without earning ...   \n",
      "4  Secondary school (e.g. American high school, G...   \n",
      "\n",
      "                                           LearnCode  \\\n",
      "0                             Books / Physical media   \n",
      "1  Books / Physical media;Colleague;On the job tr...   \n",
      "2  Books / Physical media;Colleague;On the job tr...   \n",
      "3  Other online resources (e.g., videos, blogs, f...   \n",
      "4  Other online resources (e.g., videos, blogs, f...   \n",
      "\n",
      "                                     LearnCodeOnline  ... JobSatPoints_6  \\\n",
      "0                                                NaN  ...            NaN   \n",
      "1  Technical documentation;Blogs;Books;Written Tu...  ...            0.0   \n",
      "2  Technical documentation;Blogs;Books;Written Tu...  ...            NaN   \n",
      "3  Stack Overflow;How-to videos;Interactive tutorial  ...            NaN   \n",
      "4  Technical documentation;Blogs;Written Tutorial...  ...            NaN   \n",
      "\n",
      "  JobSatPoints_7 JobSatPoints_8 JobSatPoints_9 JobSatPoints_10  \\\n",
      "0            NaN            NaN            NaN             NaN   \n",
      "1            0.0            0.0            0.0             0.0   \n",
      "2            NaN            NaN            NaN             NaN   \n",
      "3            NaN            NaN            NaN             NaN   \n",
      "4            NaN            NaN            NaN             NaN   \n",
      "\n",
      "  JobSatPoints_11           SurveyLength SurveyEase ConvertedCompYearly JobSat  \n",
      "0             NaN                    NaN        NaN                 NaN    NaN  \n",
      "1             0.0                    NaN        NaN                 NaN    NaN  \n",
      "2             NaN  Appropriate in length       Easy                 NaN    NaN  \n",
      "3             NaN               Too long       Easy                 NaN    NaN  \n",
      "4             NaN              Too short       Easy                 NaN    NaN  \n",
      "\n",
      "[5 rows x 114 columns]\n"
     ]
    }
   ],
   "source": [
    "# Load the dataset directly from the URL\n",
    "file_path = \"https://cf-courses-data.s3.us.cloud-object-storage.appdomain.cloud/VYPrOu0Vs3I0hKLLjiPGrA/survey-data-with-duplicate.csv\"\n",
    "df = pd.read_csv(file_path)\n",
    "\n",
    "# Display the first few rows\n",
    "print(df.head())"
   ]
  },
  {
   "cell_type": "markdown",
   "metadata": {},
   "source": [
    "Load the data into a pandas dataframe:\n",
    "\n"
   ]
  },
  {
   "cell_type": "markdown",
   "metadata": {},
   "source": [
    "Note: If you are working on a local Jupyter environment, you can use the URL directly in the pandas.read_csv() function as shown below:\n",
    "\n"
   ]
  },
  {
   "cell_type": "code",
   "execution_count": 5,
   "metadata": {},
   "outputs": [],
   "source": [
    "# df = pd.read_csv(\"https://cf-courses-data.s3.us.cloud-object-storage.appdomain.cloud/n01PQ9pSmiRX6520flujwQ/survey-data.csv\")\n"
   ]
  },
  {
   "cell_type": "markdown",
   "metadata": {},
   "source": [
    "## Identify and Analyze Duplicates\n"
   ]
  },
  {
   "cell_type": "markdown",
   "metadata": {},
   "source": [
    "### Task 1: Identify Duplicate Rows\n",
    "1. Count the number of duplicate rows in the dataset.\n",
    "3. Display the first few duplicate rows to understand their structure.\n"
   ]
  },
  {
   "cell_type": "code",
   "execution_count": 6,
   "metadata": {},
   "outputs": [
    {
     "data": {
      "text/plain": [
       "20"
      ]
     },
     "execution_count": 6,
     "metadata": {},
     "output_type": "execute_result"
    }
   ],
   "source": [
    "## Write your code here\n",
    "len(df[df.duplicated()])"
   ]
  },
  {
   "cell_type": "code",
   "execution_count": 7,
   "metadata": {},
   "outputs": [
    {
     "data": {
      "text/plain": [
       "np.int64(20)"
      ]
     },
     "execution_count": 7,
     "metadata": {},
     "output_type": "execute_result"
    }
   ],
   "source": [
    "df.duplicated().sum()"
   ]
  },
  {
   "cell_type": "markdown",
   "metadata": {},
   "source": [
    "### Task 2: Analyze Characteristics of Duplicates\n",
    "1. Identify duplicate rows based on selected columns such as MainBranch, Employment, and RemoteWork. Analyse which columns frequently contain identical values within these duplicate rows.\n",
    "2. Analyse the characteristics of rows that are duplicates based on a subset of columns, such as MainBranch, Employment, and RemoteWork. Determine which columns frequently have identical values across these rows.\n",
    "   \n"
   ]
  },
  {
   "cell_type": "code",
   "execution_count": 8,
   "metadata": {},
   "outputs": [
    {
     "name": "stdout",
     "output_type": "stream",
     "text": [
      "Duplicate rows based on MainBranch, Employment, and RemoteWork:\n",
      "       ResponseId                                         MainBranch  \\\n",
      "0               1                     I am a developer by profession   \n",
      "1               2                     I am a developer by profession   \n",
      "2               3                     I am a developer by profession   \n",
      "3               4                              I am learning to code   \n",
      "4               5                     I am a developer by profession   \n",
      "...           ...                                                ...   \n",
      "65452       35588  I am not primarily a developer, but I write co...   \n",
      "65453       50580                     I am a developer by profession   \n",
      "65454        9938                     I am a developer by profession   \n",
      "65455       40874                     I am a developer by profession   \n",
      "65456       36796                     I am a developer by profession   \n",
      "\n",
      "                      Age                                         Employment  \\\n",
      "0      Under 18 years old                                Employed, full-time   \n",
      "1         35-44 years old                                Employed, full-time   \n",
      "2         45-54 years old                                Employed, full-time   \n",
      "3         18-24 years old                                 Student, full-time   \n",
      "4         18-24 years old                                 Student, full-time   \n",
      "...                   ...                                                ...   \n",
      "65452     18-24 years old             Student, full-time;Employed, part-time   \n",
      "65453     18-24 years old            Employed, full-time;Employed, part-time   \n",
      "65454     35-44 years old  Employed, full-time;Independent contractor, fr...   \n",
      "65455     25-34 years old                                Employed, full-time   \n",
      "65456   65 years or older                                            Retired   \n",
      "\n",
      "                                 RemoteWork   Check  \\\n",
      "0                                    Remote  Apples   \n",
      "1                                    Remote  Apples   \n",
      "2                                    Remote  Apples   \n",
      "3                                       NaN  Apples   \n",
      "4                                       NaN  Apples   \n",
      "...                                     ...     ...   \n",
      "65452                             In-person  Apples   \n",
      "65453                                Remote  Apples   \n",
      "65454  Hybrid (some remote, some in-person)  Apples   \n",
      "65455                                Remote  Apples   \n",
      "65456                                   NaN  Apples   \n",
      "\n",
      "                                        CodingActivities  \\\n",
      "0                                                  Hobby   \n",
      "1      Hobby;Contribute to open-source projects;Other...   \n",
      "2      Hobby;Contribute to open-source projects;Other...   \n",
      "3                                                    NaN   \n",
      "4                                                    NaN   \n",
      "...                                                  ...   \n",
      "65452  Hobby;Contribute to open-source projects;Schoo...   \n",
      "65453                      Hobby;Freelance/contract work   \n",
      "65454  Bootstrapping a business;School or academic wo...   \n",
      "65455                       I don’t code outside of work   \n",
      "65456                                                NaN   \n",
      "\n",
      "                                                 EdLevel  \\\n",
      "0                              Primary/elementary school   \n",
      "1           Bachelor’s degree (B.A., B.S., B.Eng., etc.)   \n",
      "2        Master’s degree (M.A., M.S., M.Eng., MBA, etc.)   \n",
      "3      Some college/university study without earning ...   \n",
      "4      Secondary school (e.g. American high school, G...   \n",
      "...                                                  ...   \n",
      "65452  Some college/university study without earning ...   \n",
      "65453  Some college/university study without earning ...   \n",
      "65454    Master’s degree (M.A., M.S., M.Eng., MBA, etc.)   \n",
      "65455  Some college/university study without earning ...   \n",
      "65456  Some college/university study without earning ...   \n",
      "\n",
      "                                               LearnCode  \\\n",
      "0                                 Books / Physical media   \n",
      "1      Books / Physical media;Colleague;On the job tr...   \n",
      "2      Books / Physical media;Colleague;On the job tr...   \n",
      "3      Other online resources (e.g., videos, blogs, f...   \n",
      "4      Other online resources (e.g., videos, blogs, f...   \n",
      "...                                                  ...   \n",
      "65452  Other online resources (e.g., videos, blogs, f...   \n",
      "65453  Colleague;Other online resources (e.g., videos...   \n",
      "65454  Books / Physical media;On the job training;Oth...   \n",
      "65455  Books / Physical media;Other online resources ...   \n",
      "65456  Books / Physical media;School (i.e., Universit...   \n",
      "\n",
      "                                         LearnCodeOnline  ... JobSatPoints_6  \\\n",
      "0                                                    NaN  ...            NaN   \n",
      "1      Technical documentation;Blogs;Books;Written Tu...  ...            0.0   \n",
      "2      Technical documentation;Blogs;Books;Written Tu...  ...            NaN   \n",
      "3      Stack Overflow;How-to videos;Interactive tutorial  ...            NaN   \n",
      "4      Technical documentation;Blogs;Written Tutorial...  ...            NaN   \n",
      "...                                                  ...  ...            ...   \n",
      "65452                                                NaN  ...            NaN   \n",
      "65453  Technical documentation;Blogs;Written Tutorial...  ...           50.0   \n",
      "65454  Technical documentation;Blogs;Books;Stack Over...  ...            0.0   \n",
      "65455  Technical documentation;Blogs;Books;Stack Over...  ...            0.0   \n",
      "65456                                                NaN  ...            NaN   \n",
      "\n",
      "      JobSatPoints_7 JobSatPoints_8 JobSatPoints_9 JobSatPoints_10  \\\n",
      "0                NaN            NaN            NaN             NaN   \n",
      "1                0.0            0.0            0.0             0.0   \n",
      "2                NaN            NaN            NaN             NaN   \n",
      "3                NaN            NaN            NaN             NaN   \n",
      "4                NaN            NaN            NaN             NaN   \n",
      "...              ...            ...            ...             ...   \n",
      "65452            NaN            NaN            NaN             NaN   \n",
      "65453           50.0           90.0            0.0             0.0   \n",
      "65454           60.0           60.0           50.0             0.0   \n",
      "65455            0.0            0.0            0.0             0.0   \n",
      "65456            NaN            NaN            NaN             NaN   \n",
      "\n",
      "      JobSatPoints_11           SurveyLength                  SurveyEase  \\\n",
      "0                 NaN                    NaN                         NaN   \n",
      "1                 0.0                    NaN                         NaN   \n",
      "2                 NaN  Appropriate in length                        Easy   \n",
      "3                 NaN               Too long                        Easy   \n",
      "4                 NaN              Too short                        Easy   \n",
      "...               ...                    ...                         ...   \n",
      "65452             NaN  Appropriate in length  Neither easy nor difficult   \n",
      "65453             0.0               Too long                        Easy   \n",
      "65454            50.0  Appropriate in length                        Easy   \n",
      "65455             0.0  Appropriate in length  Neither easy nor difficult   \n",
      "65456             NaN  Appropriate in length                        Easy   \n",
      "\n",
      "      ConvertedCompYearly JobSat  \n",
      "0                     NaN    NaN  \n",
      "1                     NaN    NaN  \n",
      "2                     NaN    NaN  \n",
      "3                     NaN    NaN  \n",
      "4                     NaN    NaN  \n",
      "...                   ...    ...  \n",
      "65452                 NaN    NaN  \n",
      "65453                 NaN    9.0  \n",
      "65454               997.0    4.0  \n",
      "65455                 NaN    6.0  \n",
      "65456                 NaN    NaN  \n",
      "\n",
      "[65290 rows x 114 columns]\n"
     ]
    }
   ],
   "source": [
    "# Identify duplicate rows based on specified columns\n",
    "duplicate_rows = df[df.duplicated(subset=['MainBranch', 'Employment', 'RemoteWork'], keep=False)]\n",
    "\n",
    "print(\"Duplicate rows based on MainBranch, Employment, and RemoteWork:\")\n",
    "print(duplicate_rows)\n"
   ]
  },
  {
   "cell_type": "code",
   "execution_count": 9,
   "metadata": {},
   "outputs": [
    {
     "name": "stdout",
     "output_type": "stream",
     "text": [
      "Columns that contain identical values within duplicate rows:\n",
      "                                              MainBranch  \\\n",
      "0                         I am a developer by profession   \n",
      "3                                  I am learning to code   \n",
      "4                         I am a developer by profession   \n",
      "5                            I code primarily as a hobby   \n",
      "6      I am not primarily a developer, but I write co...   \n",
      "...                                                  ...   \n",
      "54630  I used to be a developer by profession, but no...   \n",
      "56449                              I am learning to code   \n",
      "58083                        I code primarily as a hobby   \n",
      "61424                        I code primarily as a hobby   \n",
      "64419  I am not primarily a developer, but I write co...   \n",
      "\n",
      "                                              Employment  \\\n",
      "0                                    Employed, full-time   \n",
      "3                                     Student, full-time   \n",
      "4                                     Student, full-time   \n",
      "5                                     Student, full-time   \n",
      "6                                    Employed, full-time   \n",
      "...                                                  ...   \n",
      "54630             Student, full-time;Employed, part-time   \n",
      "56449            Employed, full-time;Employed, part-time   \n",
      "58083                        Employed, full-time;Retired   \n",
      "61424  Employed, full-time;Student, full-time;Not emp...   \n",
      "64419  Not employed, but looking for work;Independent...   \n",
      "\n",
      "                                 RemoteWork  \n",
      "0                                    Remote  \n",
      "3                                       NaN  \n",
      "4                                       NaN  \n",
      "5                                       NaN  \n",
      "6                                    Remote  \n",
      "...                                     ...  \n",
      "54630                                Remote  \n",
      "56449  Hybrid (some remote, some in-person)  \n",
      "58083                             In-person  \n",
      "61424  Hybrid (some remote, some in-person)  \n",
      "64419  Hybrid (some remote, some in-person)  \n",
      "\n",
      "[394 rows x 3 columns]\n"
     ]
    }
   ],
   "source": [
    "# Find duplicate rows based on specific columns\n",
    "duplicates = df[df.duplicated(subset=['MainBranch', 'Employment', 'RemoteWork'], keep=False)]\n",
    "\n",
    "# Filter columns to analyze for identical values\n",
    "analysis_columns = ['MainBranch', 'Employment', 'RemoteWork']\n",
    "identical_values = duplicates[analysis_columns].drop_duplicates()\n",
    "\n",
    "print(\"Columns that contain identical values within duplicate rows:\")\n",
    "print(identical_values)\n"
   ]
  },
  {
   "cell_type": "code",
   "execution_count": 10,
   "metadata": {},
   "outputs": [
    {
     "name": "stdout",
     "output_type": "stream",
     "text": [
      "                                            MainBranch  \\\n",
      "0                       I am a developer by profession   \n",
      "1                       I am a developer by profession   \n",
      "2                       I am a developer by profession   \n",
      "3                       I am a developer by profession   \n",
      "4                       I am a developer by profession   \n",
      "..                                                 ...   \n",
      "314  I used to be a developer by profession, but no...   \n",
      "315  I used to be a developer by profession, but no...   \n",
      "316  I used to be a developer by profession, but no...   \n",
      "317  I used to be a developer by profession, but no...   \n",
      "318  I used to be a developer by profession, but no...   \n",
      "\n",
      "                                            Employment  \\\n",
      "0                                  Employed, full-time   \n",
      "1                                  Employed, full-time   \n",
      "2                                  Employed, full-time   \n",
      "3              Employed, full-time;Employed, part-time   \n",
      "4              Employed, full-time;Employed, part-time   \n",
      "..                                                 ...   \n",
      "314  Not employed, but looking for work;Independent...   \n",
      "315             Student, full-time;Employed, part-time   \n",
      "316             Student, full-time;Employed, part-time   \n",
      "317             Student, full-time;Employed, part-time   \n",
      "318             Student, part-time;Employed, part-time   \n",
      "\n",
      "                               RemoteWork  Count  \n",
      "0    Hybrid (some remote, some in-person)  15288  \n",
      "1                               In-person   7118  \n",
      "2                                  Remote  12196  \n",
      "3    Hybrid (some remote, some in-person)     78  \n",
      "4                               In-person     25  \n",
      "..                                    ...    ...  \n",
      "314                                Remote      7  \n",
      "315  Hybrid (some remote, some in-person)      2  \n",
      "316                             In-person      3  \n",
      "317                                Remote      2  \n",
      "318  Hybrid (some remote, some in-person)      2  \n",
      "\n",
      "[319 rows x 4 columns]\n"
     ]
    }
   ],
   "source": [
    "# Define the subset of columns to check for duplicates\n",
    "subset_columns = ['MainBranch', 'Employment', 'RemoteWork']\n",
    "\n",
    "# Find duplicate rows based on the subset of columns\n",
    "duplicates = df[df.duplicated(subset=subset_columns, keep=False)]\n",
    "\n",
    "# Analyze the characteristics of duplicate rows\n",
    "analysis = duplicates.groupby(subset_columns).size().reset_index(name='Count')\n",
    "\n",
    "# Display the analysis\n",
    "print(analysis)\n"
   ]
  },
  {
   "cell_type": "code",
   "execution_count": 11,
   "metadata": {},
   "outputs": [
    {
     "name": "stdout",
     "output_type": "stream",
     "text": [
      "Columns with identical values across rows: []\n"
     ]
    }
   ],
   "source": [
    "# Function to find columns with identical values across rows\n",
    "def find_identical_columns(df, columns):\n",
    "    identical_columns = []\n",
    "    for col in columns:\n",
    "        if df[col].nunique() == 1:\n",
    "            identical_columns.append(col)\n",
    "    return identical_columns\n",
    "\n",
    "# Columns to check\n",
    "columns_to_check = ['MainBranch', 'Employment', 'RemoteWork']\n",
    "\n",
    "# Determine identical columns\n",
    "identical_columns = find_identical_columns(df, columns_to_check)\n",
    "\n",
    "print(\"Columns with identical values across rows:\", identical_columns)"
   ]
  },
  {
   "cell_type": "markdown",
   "metadata": {},
   "source": [
    "### Task 3: Visualize Duplicates Distribution\n",
    "1. Create visualizations to show the distribution of duplicates across different categories.\n",
    "2. Use bar charts or pie charts to represent the distribution of duplicates by Country and Employment.\n"
   ]
  },
  {
   "cell_type": "code",
   "execution_count": 12,
   "metadata": {},
   "outputs": [
    {
     "name": "stdout",
     "output_type": "stream",
     "text": [
      "Requirement already satisfied: seaborn in /opt/conda/lib/python3.12/site-packages (0.13.2)\n",
      "Requirement already satisfied: numpy!=1.24.0,>=1.20 in /opt/conda/lib/python3.12/site-packages (from seaborn) (2.2.2)\n",
      "Requirement already satisfied: pandas>=1.2 in /opt/conda/lib/python3.12/site-packages (from seaborn) (2.2.3)\n",
      "Requirement already satisfied: matplotlib!=3.6.1,>=3.4 in /opt/conda/lib/python3.12/site-packages (from seaborn) (3.10.0)\n",
      "Requirement already satisfied: contourpy>=1.0.1 in /opt/conda/lib/python3.12/site-packages (from matplotlib!=3.6.1,>=3.4->seaborn) (1.3.1)\n",
      "Requirement already satisfied: cycler>=0.10 in /opt/conda/lib/python3.12/site-packages (from matplotlib!=3.6.1,>=3.4->seaborn) (0.12.1)\n",
      "Requirement already satisfied: fonttools>=4.22.0 in /opt/conda/lib/python3.12/site-packages (from matplotlib!=3.6.1,>=3.4->seaborn) (4.55.4)\n",
      "Requirement already satisfied: kiwisolver>=1.3.1 in /opt/conda/lib/python3.12/site-packages (from matplotlib!=3.6.1,>=3.4->seaborn) (1.4.8)\n",
      "Requirement already satisfied: packaging>=20.0 in /opt/conda/lib/python3.12/site-packages (from matplotlib!=3.6.1,>=3.4->seaborn) (24.2)\n",
      "Requirement already satisfied: pillow>=8 in /opt/conda/lib/python3.12/site-packages (from matplotlib!=3.6.1,>=3.4->seaborn) (11.1.0)\n",
      "Requirement already satisfied: pyparsing>=2.3.1 in /opt/conda/lib/python3.12/site-packages (from matplotlib!=3.6.1,>=3.4->seaborn) (3.2.1)\n",
      "Requirement already satisfied: python-dateutil>=2.7 in /opt/conda/lib/python3.12/site-packages (from matplotlib!=3.6.1,>=3.4->seaborn) (2.9.0.post0)\n",
      "Requirement already satisfied: pytz>=2020.1 in /opt/conda/lib/python3.12/site-packages (from pandas>=1.2->seaborn) (2024.2)\n",
      "Requirement already satisfied: tzdata>=2022.7 in /opt/conda/lib/python3.12/site-packages (from pandas>=1.2->seaborn) (2025.1)\n",
      "Requirement already satisfied: six>=1.5 in /opt/conda/lib/python3.12/site-packages (from python-dateutil>=2.7->matplotlib!=3.6.1,>=3.4->seaborn) (1.17.0)\n",
      "Note: you may need to restart the kernel to use updated packages.\n"
     ]
    }
   ],
   "source": [
    "pip install seaborn"
   ]
  },
  {
   "cell_type": "code",
   "execution_count": null,
   "metadata": {
    "scrolled": true
   },
   "outputs": [],
   "source": []
  },
  {
   "cell_type": "code",
   "execution_count": 13,
   "metadata": {},
   "outputs": [
    {
     "name": "stderr",
     "output_type": "stream",
     "text": [
      "/tmp/ipykernel_1626/2799510064.py:25: FutureWarning: \n",
      "\n",
      "Passing `palette` without assigning `hue` is deprecated and will be removed in v0.14.0. Assign the `x` variable to `hue` and set `legend=False` for the same effect.\n",
      "\n",
      "  sns.barplot(x='MainBranch', y='Count', data=mainbranch_counts, palette='viridis')\n"
     ]
    },
    {
     "data": {
      "image/png": "[encoded data removed]",
      "text/plain": [
       "<Figure size 1000x600 with 1 Axes>"
      ]
     },
     "metadata": {},
     "output_type": "display_data"
    },
    {
     "name": "stderr",
     "output_type": "stream",
     "text": [
      "/tmp/ipykernel_1626/2799510064.py:37: FutureWarning: \n",
      "\n",
      "Passing `palette` without assigning `hue` is deprecated and will be removed in v0.14.0. Assign the `x` variable to `hue` and set `legend=False` for the same effect.\n",
      "\n",
      "  sns.barplot(x='Employment', y='Count', data=employment_counts, palette='plasma')\n"
     ]
    },
    {
     "data": {
      "image/png": "[encoded data removed]",
      "text/plain": [
       "<Figure size 1000x600 with 1 Axes>"
      ]
     },
     "metadata": {},
     "output_type": "display_data"
    },
    {
     "name": "stderr",
     "output_type": "stream",
     "text": [
      "/tmp/ipykernel_1626/2799510064.py:49: FutureWarning: \n",
      "\n",
      "Passing `palette` without assigning `hue` is deprecated and will be removed in v0.14.0. Assign the `x` variable to `hue` and set `legend=False` for the same effect.\n",
      "\n",
      "  sns.barplot(x='RemoteWork', y='Count', data=remotework_counts, palette='magma')\n"
     ]
    },
    {
     "data": {
      "image/png": "[encoded data removed]",
      "text/plain": [
       "<Figure size 1000x600 with 1 Axes>"
      ]
     },
     "metadata": {},
     "output_type": "display_data"
    }
   ],
   "source": [
    "import pandas as pd\n",
    "import matplotlib.pyplot as plt\n",
    "import seaborn as sns\n",
    "\n",
    "# Check for duplicates\n",
    "df_duplicates = df.duplicated(subset=['MainBranch', 'Employment', 'RemoteWork'], keep=False)\n",
    "df = df[df_duplicates]\n",
    "\n",
    "# Calculate the counts for each category\n",
    "mainbranch_counts = df['MainBranch'].value_counts().reset_index()\n",
    "mainbranch_counts.columns = ['MainBranch', 'Count']\n",
    "\n",
    "employment_counts = df['Employment'].value_counts().reset_index()\n",
    "employment_counts.columns = ['Employment', 'Count']\n",
    "\n",
    "remotework_counts = df['RemoteWork'].value_counts().reset_index()\n",
    "remotework_counts.columns = ['RemoteWork', 'Count']\n",
    "\n",
    "# Define a function to shorten the labels\n",
    "def shorten_labels(labels, max_length=10):\n",
    "    return [label if len(label) <= max_length else label[:max_length] + '...' for label in labels]\n",
    "\n",
    "# Plotting the distribution of duplicates for MainBranch\n",
    "plt.figure(figsize=(10, 6))\n",
    "sns.barplot(x='MainBranch', y='Count', data=mainbranch_counts, palette='viridis')\n",
    "plt.title('Distribution of Duplicates in MainBranch')\n",
    "plt.xlabel('Main Branch')\n",
    "plt.ylabel('Count')\n",
    "plt.xticks(rotation=45)\n",
    "plt.xticks(ticks=range(len(mainbranch_counts['MainBranch'])),\n",
    "           labels=shorten_labels(mainbranch_counts['MainBranch'].values))\n",
    "plt.grid(axis='y')\n",
    "plt.show()\n",
    "\n",
    "# Plotting the distribution of duplicates for Employment\n",
    "plt.figure(figsize=(10, 6))\n",
    "sns.barplot(x='Employment', y='Count', data=employment_counts, palette='plasma')\n",
    "plt.title('Distribution of Duplicates in Employment')\n",
    "plt.xlabel('Employment')\n",
    "plt.ylabel('Count')\n",
    "plt.xticks(rotation=90)\n",
    "plt.xticks(ticks=range(len(employment_counts['Employment'])),\n",
    "           labels=shorten_labels(employment_counts['Employment'].values))\n",
    "plt.grid(axis='y')\n",
    "plt.show()\n",
    "\n",
    "# Plotting the distribution of duplicates for RemoteWork\n",
    "plt.figure(figsize=(10, 6))\n",
    "sns.barplot(x='RemoteWork', y='Count', data=remotework_counts, palette='magma')\n",
    "plt.title('Distribution of Duplicates in RemoteWork')\n",
    "plt.xlabel('Remote Work')\n",
    "plt.ylabel('Count')\n",
    "plt.xticks(rotation=45)\n",
    "plt.grid(axis='y')\n",
    "plt.show()\n"
   ]
  },
  {
   "cell_type": "markdown",
   "metadata": {},
   "source": [
    "### Task 4: Strategic Removal of Duplicates\n",
    "1. Decide which columns are critical for defining uniqueness in the dataset.\n",
    "2. Remove duplicates based on a subset of columns if complete row duplication is not a good criterion.\n"
   ]
  },
  {
   "cell_type": "code",
   "execution_count": 15,
   "metadata": {},
   "outputs": [
    {
     "name": "stdout",
     "output_type": "stream",
     "text": [
      "The combination of columns ['MainBranch', 'Employment', 'RemoteWork'] does NOT uniquely identify all rows in the dataset.\n",
      "Unique rows based on ['MainBranch', 'Employment', 'RemoteWork']: 394/65290\n"
     ]
    }
   ],
   "source": [
    "# Subset of columns to check\n",
    "columns_to_check = ['MainBranch', 'Employment', 'RemoteWork']\n",
    "\n",
    "# Check for uniqueness\n",
    "unique_count = df[columns_to_check].drop_duplicates().shape[0]\n",
    "total_count = df.shape[0]\n",
    "is_unique = unique_count == total_count\n",
    "\n",
    "# Display results\n",
    "if is_unique:\n",
    "    print(f\"The combination of columns {columns_to_check} is critical for defining uniqueness in the dataset.\")\n",
    "else:\n",
    "    print(f\"The combination of columns {columns_to_check} does NOT uniquely identify all rows in the dataset.\")\n",
    "    print(f\"Unique rows based on {columns_to_check}: {unique_count}/{total_count}\")\n"
   ]
  },
  {
   "cell_type": "code",
   "execution_count": 16,
   "metadata": {},
   "outputs": [
    {
     "name": "stdout",
     "output_type": "stream",
     "text": [
      "Original number of rows: 65290\n",
      "Number of rows after deduplication: 394\n",
      "\n",
      "Duplicates removed based on the subset of columns: ['MainBranch', 'Employment', 'RemoteWork']\n"
     ]
    }
   ],
   "source": [
    "# Subset of columns to use for identifying duplicates\n",
    "subset_columns = ['MainBranch', 'Employment', 'RemoteWork']\n",
    "\n",
    "# Remove duplicates based on the subset of columns\n",
    "deduplicated_df = df.drop_duplicates(subset=subset_columns)\n",
    "\n",
    "# Display results\n",
    "print(f\"Original number of rows: {df.shape[0]}\")\n",
    "print(f\"Number of rows after deduplication: {deduplicated_df.shape[0]}\")\n",
    "\n",
    "# Save the deduplicated dataset to a new file (optional)\n",
    "deduplicated_df.to_csv(\"deduplicated_dataset.csv\", index=False)\n",
    "\n",
    "print(\"\\nDuplicates removed based on the subset of columns:\", subset_columns)\n"
   ]
  },
  {
   "cell_type": "markdown",
   "metadata": {},
   "source": [
    "## Verify and Document Duplicate Removal Process\n"
   ]
  },
  {
   "cell_type": "markdown",
   "metadata": {},
   "source": [
    "### Task 5: Documentation\n",
    "1. Document the process of identifying and removing duplicates.\n"
   ]
  },
  {
   "cell_type": "raw",
   "metadata": {},
   "source": [
    "#1. Understand the Dataset\n",
    "Inspect the structure: Review the columns and their meanings.\n",
    "Define duplication criteria: Decide which fields or columns are relevant for identifying duplicates. \n",
    "Subset duplication: Only a subset of columns (e.g., 'MainBranch', 'Employment', 'RemoteWork') is considered.\n",
    "\n",
    "#2. Define uniqueness: Each unique combination of these three columns represents one valid record.\n",
    "Remove duplicates: Retain only the first occurrence of each unique combination and discard subsequent duplicates.\n",
    "Validate: Verify that every row now represents a unique combination of the three columns."
   ]
  },
  {
   "cell_type": "markdown",
   "metadata": {},
   "source": [
    "2. Explain the reasoning behind selecting specific columns for identifying and removing duplicates.\n"
   ]
  },
  {
   "cell_type": "raw",
   "metadata": {},
   "source": [
    "# Write your explanation here\n",
    "\n",
    "\n",
    "Relevance to the Dataset's Purpose:\n",
    "\n",
    "Select columns that are critical for defining the uniqueness of a record based on the context of the dataset. For example:\n",
    "In a survey dataset, columns like 'MainBranch', 'Employment', and 'RemoteWork' may define unique responses.\n",
    "Including unrelated columns (e.g., timestamps or additional metadata) may lead to unnecessary duplicates being retained or removed.\n",
    "Avoiding Overlap with Non-Critical Data:\n",
    "\n",
    "Some columns (e.g., Country, Timestamp, or Comments) might vary across otherwise identical records but aren't critical for identifying duplicates. Including them could prevent the proper identification of duplicates.\n",
    "\n",
    "The columns selected should represent the core identity of a record.\n",
    "\n",
    "By focusing only on the most relevant columns, you reduce complexity and improve efficiency. This prevents unnecessary removal of unique records and ensures that deduplication is aligned with project goals."
   ]
  },
  {
   "cell_type": "markdown",
   "metadata": {},
   "source": [
    "### Summary and Next Steps\n",
    "**In this lab, you focused on identifying and analyzing duplicate rows within the dataset.**\n",
    "\n",
    "- You employed various techniques to explore the nature of duplicates and applied strategic methods for their removal.\n",
    "- For additional analysis, consider investigating the impact of duplicates on specific analyses and how their removal affects the results.\n",
    "- This version of the lab is more focused on duplicate analysis and handling, providing a structured approach to deal with duplicates in a dataset effectively.\n"
   ]
  },
  {
   "cell_type": "markdown",
   "metadata": {},
   "source": [
    "<!--\n",
    "## Change Log\n",
    "|Date (YYYY-MM-DD)|Version|Changed By|Change Description|\n",
    "|-|-|-|-|\n",
    "|2024-11- 05|1.3|Madhusudhan Moole|Updated lab|\n",
    "|2024-10-28|1.2|Madhusudhan Moole|Updated lab|\n",
    "|2024-09-24|1.1|Madhusudhan Moole|Updated lab|\n",
    "|2024-09-23|1.0|Raghul Ramesh|Created lab|\n",
    "--!>\n"
   ]
  },
  {
   "cell_type": "markdown",
   "metadata": {},
   "source": [
    "Copyright © IBM Corporation. All rights reserved.\n"
   ]
  }
 ],
 "metadata": {
  "kernelspec": {
   "display_name": "Python 3 (ipykernel)",
   "language": "python",
   "name": "python3"
  },
  "language_info": {
   "codemirror_mode": {
    "name": "ipython",
    "version": 3
   },
   "file_extension": ".py",
   "mimetype": "text/x-python",
   "name": "python",
   "nbconvert_exporter": "python",
   "pygments_lexer": "ipython3",
   "version": "3.12.8"
  },
  "prev_pub_hash": "fa3493caccf457f2b33a3a72ca6bf5789c2ce4157ea6e40534b09cc8380e8ae5"
 },
 "nbformat": 4,
 "nbformat_minor": 4
}
