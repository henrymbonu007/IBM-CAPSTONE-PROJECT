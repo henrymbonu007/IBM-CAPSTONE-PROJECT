{
 "cells": [
  {
   "cell_type": "markdown",
   "metadata": {},
   "source": [
    "<p style=\"text-align:center\">\n",
    "    <a href=\"https://skills.network\" target=\"_blank\">\n",
    "    <img src=\"https://cf-courses-data.s3.us.cloud-object-storage.appdomain.cloud/assets/logos/SN_web_lightmode.png\" width=\"200\" alt=\"Skills Network Logo\"  />\n",
    "    </a>\n",
    "</p>\n"
   ]
  },
  {
   "cell_type": "markdown",
   "metadata": {},
   "source": [
    "# **Data Wrangling Lab**\n"
   ]
  },
  {
   "cell_type": "markdown",
   "metadata": {},
   "source": [
    "Estimated time needed: **45** minutes\n"
   ]
  },
  {
   "cell_type": "markdown",
   "metadata": {},
   "source": [
    "In this lab, you will perform data wrangling tasks to prepare raw data for analysis. Data wrangling involves cleaning, transforming, and organizing data into a structured format suitable for analysis. This lab focuses on tasks like identifying inconsistencies, encoding categorical variables, and feature transformation.\n"
   ]
  },
  {
   "cell_type": "markdown",
   "metadata": {},
   "source": [
    "## Objectives\n"
   ]
  },
  {
   "cell_type": "markdown",
   "metadata": {},
   "source": [
    "After completing this lab, you will be able to:\n"
   ]
  },
  {
   "cell_type": "markdown",
   "metadata": {},
   "source": [
    "- Identify and remove inconsistent data entries.\n",
    "\n",
    "- Encode categorical variables for analysis.\n",
    "\n",
    "- Handle missing values using multiple imputation strategies.\n",
    "\n",
    "- Apply feature scaling and transformation techniques.\n"
   ]
  },
  {
   "cell_type": "markdown",
   "metadata": {},
   "source": [
    "#### Intsall the required libraries\n"
   ]
  },
  {
   "cell_type": "code",
   "execution_count": 28,
   "metadata": {},
   "outputs": [
    {
     "name": "stdout",
     "output_type": "stream",
     "text": [
      "Requirement already satisfied: pandas in /opt/conda/lib/python3.12/site-packages (2.2.3)\n",
      "Requirement already satisfied: numpy>=1.26.0 in /opt/conda/lib/python3.12/site-packages (from pandas) (2.2.2)\n",
      "Requirement already satisfied: python-dateutil>=2.8.2 in /opt/conda/lib/python3.12/site-packages (from pandas) (2.9.0.post0)\n",
      "Requirement already satisfied: pytz>=2020.1 in /opt/conda/lib/python3.12/site-packages (from pandas) (2024.2)\n",
      "Requirement already satisfied: tzdata>=2022.7 in /opt/conda/lib/python3.12/site-packages (from pandas) (2025.1)\n",
      "Requirement already satisfied: six>=1.5 in /opt/conda/lib/python3.12/site-packages (from python-dateutil>=2.8.2->pandas) (1.17.0)\n",
      "Requirement already satisfied: matplotlib in /opt/conda/lib/python3.12/site-packages (3.10.0)\n",
      "Requirement already satisfied: contourpy>=1.0.1 in /opt/conda/lib/python3.12/site-packages (from matplotlib) (1.3.1)\n",
      "Requirement already satisfied: cycler>=0.10 in /opt/conda/lib/python3.12/site-packages (from matplotlib) (0.12.1)\n",
      "Requirement already satisfied: fonttools>=4.22.0 in /opt/conda/lib/python3.12/site-packages (from matplotlib) (4.55.5)\n",
      "Requirement already satisfied: kiwisolver>=1.3.1 in /opt/conda/lib/python3.12/site-packages (from matplotlib) (1.4.8)\n",
      "Requirement already satisfied: numpy>=1.23 in /opt/conda/lib/python3.12/site-packages (from matplotlib) (2.2.2)\n",
      "Requirement already satisfied: packaging>=20.0 in /opt/conda/lib/python3.12/site-packages (from matplotlib) (24.2)\n",
      "Requirement already satisfied: pillow>=8 in /opt/conda/lib/python3.12/site-packages (from matplotlib) (11.1.0)\n",
      "Requirement already satisfied: pyparsing>=2.3.1 in /opt/conda/lib/python3.12/site-packages (from matplotlib) (3.2.1)\n",
      "Requirement already satisfied: python-dateutil>=2.7 in /opt/conda/lib/python3.12/site-packages (from matplotlib) (2.9.0.post0)\n",
      "Requirement already satisfied: six>=1.5 in /opt/conda/lib/python3.12/site-packages (from python-dateutil>=2.7->matplotlib) (1.17.0)\n"
     ]
    }
   ],
   "source": [
    "!pip install pandas\n",
    "!pip install matplotlib"
   ]
  },
  {
   "cell_type": "markdown",
   "metadata": {},
   "source": [
    "## Tasks\n"
   ]
  },
  {
   "cell_type": "markdown",
   "metadata": {},
   "source": [
    "#### Step 1: Import the necessary module.\n"
   ]
  },
  {
   "cell_type": "markdown",
   "metadata": {},
   "source": [
    "### 1. Load the Dataset\n"
   ]
  },
  {
   "cell_type": "markdown",
   "metadata": {},
   "source": [
    "<h5>1.1 Import necessary libraries and load the dataset.</h5>\n"
   ]
  },
  {
   "cell_type": "markdown",
   "metadata": {},
   "source": [
    "Ensure the dataset is loaded correctly by displaying the first few rows.\n"
   ]
  },
  {
   "cell_type": "code",
   "execution_count": 29,
   "metadata": {},
   "outputs": [
    {
     "name": "stdout",
     "output_type": "stream",
     "text": [
      "   ResponseId                      MainBranch                 Age  \\\n",
      "0           1  I am a developer by profession  Under 18 years old   \n",
      "1           2  I am a developer by profession     35-44 years old   \n",
      "2           3  I am a developer by profession     45-54 years old   \n",
      "3           4           I am learning to code     18-24 years old   \n",
      "4           5  I am a developer by profession     18-24 years old   \n",
      "\n",
      "            Employment RemoteWork   Check  \\\n",
      "0  Employed, full-time     Remote  Apples   \n",
      "1  Employed, full-time     Remote  Apples   \n",
      "2  Employed, full-time     Remote  Apples   \n",
      "3   Student, full-time        NaN  Apples   \n",
      "4   Student, full-time        NaN  Apples   \n",
      "\n",
      "                                    CodingActivities  \\\n",
      "0                                              Hobby   \n",
      "1  Hobby;Contribute to open-source projects;Other...   \n",
      "2  Hobby;Contribute to open-source projects;Other...   \n",
      "3                                                NaN   \n",
      "4                                                NaN   \n",
      "\n",
      "                                             EdLevel  \\\n",
      "0                          Primary/elementary school   \n",
      "1       Bachelor’s degree (B.A., B.S., B.Eng., etc.)   \n",
      "2    Master’s degree (M.A., M.S., M.Eng., MBA, etc.)   \n",
      "3  Some college/university study without earning ...   \n",
      "4  Secondary school (e.g. American high school, G...   \n",
      "\n",
      "                                           LearnCode  \\\n",
      "0                             Books / Physical media   \n",
      "1  Books / Physical media;Colleague;On the job tr...   \n",
      "2  Books / Physical media;Colleague;On the job tr...   \n",
      "3  Other online resources (e.g., videos, blogs, f...   \n",
      "4  Other online resources (e.g., videos, blogs, f...   \n",
      "\n",
      "                                     LearnCodeOnline  ... JobSatPoints_6  \\\n",
      "0                                                NaN  ...            NaN   \n",
      "1  Technical documentation;Blogs;Books;Written Tu...  ...            0.0   \n",
      "2  Technical documentation;Blogs;Books;Written Tu...  ...            NaN   \n",
      "3  Stack Overflow;How-to videos;Interactive tutorial  ...            NaN   \n",
      "4  Technical documentation;Blogs;Written Tutorial...  ...            NaN   \n",
      "\n",
      "  JobSatPoints_7 JobSatPoints_8 JobSatPoints_9 JobSatPoints_10  \\\n",
      "0            NaN            NaN            NaN             NaN   \n",
      "1            0.0            0.0            0.0             0.0   \n",
      "2            NaN            NaN            NaN             NaN   \n",
      "3            NaN            NaN            NaN             NaN   \n",
      "4            NaN            NaN            NaN             NaN   \n",
      "\n",
      "  JobSatPoints_11           SurveyLength SurveyEase ConvertedCompYearly JobSat  \n",
      "0             NaN                    NaN        NaN                 NaN    NaN  \n",
      "1             0.0                    NaN        NaN                 NaN    NaN  \n",
      "2             NaN  Appropriate in length       Easy                 NaN    NaN  \n",
      "3             NaN               Too long       Easy                 NaN    NaN  \n",
      "4             NaN              Too short       Easy                 NaN    NaN  \n",
      "\n",
      "[5 rows x 114 columns]\n"
     ]
    }
   ],
   "source": [
    "# Import necessary libraries\n",
    "import pandas as pd\n",
    "\n",
    "# Load the Stack Overflow survey data\n",
    "dataset_url = \"https://cf-courses-data.s3.us.cloud-object-storage.appdomain.cloud/n01PQ9pSmiRX6520flujwQ/survey-data.csv\"\n",
    "df = pd.read_csv(dataset_url)\n",
    "\n",
    "# Display the first few rows\n",
    "print(df.head())\n"
   ]
  },
  {
   "cell_type": "markdown",
   "metadata": {},
   "source": [
    "#### 2. Explore the Dataset\n"
   ]
  },
  {
   "cell_type": "markdown",
   "metadata": {},
   "source": [
    "<h5>2.1 Summarize the dataset by displaying the column data types, counts, and missing values.</h5>\n"
   ]
  },
  {
   "cell_type": "code",
   "execution_count": 30,
   "metadata": {},
   "outputs": [
    {
     "name": "stdout",
     "output_type": "stream",
     "text": [
      "ResponseId               int64\n",
      "MainBranch              object\n",
      "Age                     object\n",
      "Employment              object\n",
      "RemoteWork              object\n",
      "                        ...   \n",
      "JobSatPoints_11        float64\n",
      "SurveyLength            object\n",
      "SurveyEase              object\n",
      "ConvertedCompYearly    float64\n",
      "JobSat                 float64\n",
      "Length: 114, dtype: object\n"
     ]
    }
   ],
   "source": [
    "print(df.dtypes) #data types"
   ]
  },
  {
   "cell_type": "code",
   "execution_count": 31,
   "metadata": {},
   "outputs": [
    {
     "data": {
      "text/plain": [
       "<bound method DataFrame.count of        ResponseId                      MainBranch                 Age  \\\n",
       "0               1  I am a developer by profession  Under 18 years old   \n",
       "1               2  I am a developer by profession     35-44 years old   \n",
       "2               3  I am a developer by profession     45-54 years old   \n",
       "3               4           I am learning to code     18-24 years old   \n",
       "4               5  I am a developer by profession     18-24 years old   \n",
       "...           ...                             ...                 ...   \n",
       "65432       65433  I am a developer by profession     18-24 years old   \n",
       "65433       65434  I am a developer by profession     25-34 years old   \n",
       "65434       65435  I am a developer by profession     25-34 years old   \n",
       "65435       65436  I am a developer by profession     18-24 years old   \n",
       "65436       65437     I code primarily as a hobby     18-24 years old   \n",
       "\n",
       "                Employment                            RemoteWork   Check  \\\n",
       "0      Employed, full-time                                Remote  Apples   \n",
       "1      Employed, full-time                                Remote  Apples   \n",
       "2      Employed, full-time                                Remote  Apples   \n",
       "3       Student, full-time                                   NaN  Apples   \n",
       "4       Student, full-time                                   NaN  Apples   \n",
       "...                    ...                                   ...     ...   \n",
       "65432  Employed, full-time                                Remote  Apples   \n",
       "65433  Employed, full-time                                Remote  Apples   \n",
       "65434  Employed, full-time                             In-person  Apples   \n",
       "65435  Employed, full-time  Hybrid (some remote, some in-person)  Apples   \n",
       "65436   Student, full-time                                   NaN  Apples   \n",
       "\n",
       "                                        CodingActivities  \\\n",
       "0                                                  Hobby   \n",
       "1      Hobby;Contribute to open-source projects;Other...   \n",
       "2      Hobby;Contribute to open-source projects;Other...   \n",
       "3                                                    NaN   \n",
       "4                                                    NaN   \n",
       "...                                                  ...   \n",
       "65432                      Hobby;School or academic work   \n",
       "65433           Hobby;Contribute to open-source projects   \n",
       "65434                                              Hobby   \n",
       "65435  Hobby;Contribute to open-source projects;Profe...   \n",
       "65436                                                NaN   \n",
       "\n",
       "                                                 EdLevel  \\\n",
       "0                              Primary/elementary school   \n",
       "1           Bachelor’s degree (B.A., B.S., B.Eng., etc.)   \n",
       "2        Master’s degree (M.A., M.S., M.Eng., MBA, etc.)   \n",
       "3      Some college/university study without earning ...   \n",
       "4      Secondary school (e.g. American high school, G...   \n",
       "...                                                  ...   \n",
       "65432       Bachelor’s degree (B.A., B.S., B.Eng., etc.)   \n",
       "65433                                                NaN   \n",
       "65434       Bachelor’s degree (B.A., B.S., B.Eng., etc.)   \n",
       "65435  Secondary school (e.g. American high school, G...   \n",
       "65436                                                NaN   \n",
       "\n",
       "                                               LearnCode  \\\n",
       "0                                 Books / Physical media   \n",
       "1      Books / Physical media;Colleague;On the job tr...   \n",
       "2      Books / Physical media;Colleague;On the job tr...   \n",
       "3      Other online resources (e.g., videos, blogs, f...   \n",
       "4      Other online resources (e.g., videos, blogs, f...   \n",
       "...                                                  ...   \n",
       "65432  On the job training;School (i.e., University, ...   \n",
       "65433                                                NaN   \n",
       "65434  Other online resources (e.g., videos, blogs, f...   \n",
       "65435  On the job training;Other online resources (e....   \n",
       "65436                                                NaN   \n",
       "\n",
       "                                         LearnCodeOnline  ... JobSatPoints_6  \\\n",
       "0                                                    NaN  ...            NaN   \n",
       "1      Technical documentation;Blogs;Books;Written Tu...  ...            0.0   \n",
       "2      Technical documentation;Blogs;Books;Written Tu...  ...            NaN   \n",
       "3      Stack Overflow;How-to videos;Interactive tutorial  ...            NaN   \n",
       "4      Technical documentation;Blogs;Written Tutorial...  ...            NaN   \n",
       "...                                                  ...  ...            ...   \n",
       "65432                                                NaN  ...            NaN   \n",
       "65433                                                NaN  ...            NaN   \n",
       "65434  Technical documentation;Stack Overflow;Social ...  ...            NaN   \n",
       "65435  Technical documentation;Blogs;Written Tutorial...  ...            0.0   \n",
       "65436                                                NaN  ...            NaN   \n",
       "\n",
       "      JobSatPoints_7 JobSatPoints_8 JobSatPoints_9 JobSatPoints_10  \\\n",
       "0                NaN            NaN            NaN             NaN   \n",
       "1                0.0            0.0            0.0             0.0   \n",
       "2                NaN            NaN            NaN             NaN   \n",
       "3                NaN            NaN            NaN             NaN   \n",
       "4                NaN            NaN            NaN             NaN   \n",
       "...              ...            ...            ...             ...   \n",
       "65432            NaN            NaN            NaN             NaN   \n",
       "65433            NaN            NaN            NaN             NaN   \n",
       "65434            NaN            NaN            NaN             NaN   \n",
       "65435            0.0            0.0            0.0             0.0   \n",
       "65436            NaN            NaN            NaN             NaN   \n",
       "\n",
       "      JobSatPoints_11           SurveyLength SurveyEase ConvertedCompYearly  \\\n",
       "0                 NaN                    NaN        NaN                 NaN   \n",
       "1                 0.0                    NaN        NaN                 NaN   \n",
       "2                 NaN  Appropriate in length       Easy                 NaN   \n",
       "3                 NaN               Too long       Easy                 NaN   \n",
       "4                 NaN              Too short       Easy                 NaN   \n",
       "...               ...                    ...        ...                 ...   \n",
       "65432             NaN                    NaN        NaN                 NaN   \n",
       "65433             NaN                    NaN        NaN                 NaN   \n",
       "65434             NaN                    NaN        NaN                 NaN   \n",
       "65435             0.0                    NaN        NaN                 NaN   \n",
       "65436             NaN                    NaN        NaN                 NaN   \n",
       "\n",
       "      JobSat  \n",
       "0        NaN  \n",
       "1        NaN  \n",
       "2        NaN  \n",
       "3        NaN  \n",
       "4        NaN  \n",
       "...      ...  \n",
       "65432    NaN  \n",
       "65433    NaN  \n",
       "65434    NaN  \n",
       "65435    NaN  \n",
       "65436    NaN  \n",
       "\n",
       "[65437 rows x 114 columns]>"
      ]
     },
     "execution_count": 31,
     "metadata": {},
     "output_type": "execute_result"
    }
   ],
   "source": [
    "df.count"
   ]
  },
  {
   "cell_type": "code",
   "execution_count": 32,
   "metadata": {},
   "outputs": [
    {
     "name": "stdout",
     "output_type": "stream",
     "text": [
      "ResponseId             65437\n",
      "MainBranch             65437\n",
      "Age                    65437\n",
      "Employment             65437\n",
      "RemoteWork             54806\n",
      "                       ...  \n",
      "JobSatPoints_11        29445\n",
      "SurveyLength           56182\n",
      "SurveyEase             56238\n",
      "ConvertedCompYearly    23435\n",
      "JobSat                 29126\n",
      "Length: 114, dtype: int64\n"
     ]
    }
   ],
   "source": [
    "count = df.count()\n",
    "print(count)"
   ]
  },
  {
   "cell_type": "code",
   "execution_count": 33,
   "metadata": {},
   "outputs": [
    {
     "data": {
      "text/plain": [
       "Index(['RemoteWork', 'CodingActivities', 'EdLevel', 'LearnCode',\n",
       "       'LearnCodeOnline', 'TechDoc', 'YearsCode', 'YearsCodePro', 'DevType',\n",
       "       'OrgSize',\n",
       "       ...\n",
       "       'JobSatPoints_6', 'JobSatPoints_7', 'JobSatPoints_8', 'JobSatPoints_9',\n",
       "       'JobSatPoints_10', 'JobSatPoints_11', 'SurveyLength', 'SurveyEase',\n",
       "       'ConvertedCompYearly', 'JobSat'],\n",
       "      dtype='object', length=109)"
      ]
     },
     "execution_count": 33,
     "metadata": {},
     "output_type": "execute_result"
    }
   ],
   "source": [
    "df.columns[df.isnull().any()]   #Find the missing values for all the dataset."
   ]
  },
  {
   "cell_type": "code",
   "execution_count": 34,
   "metadata": {},
   "outputs": [
    {
     "data": {
      "text/plain": [
       "114"
      ]
     },
     "execution_count": 34,
     "metadata": {},
     "output_type": "execute_result"
    }
   ],
   "source": [
    "df.shape[1] "
   ]
  },
  {
   "cell_type": "code",
   "execution_count": 35,
   "metadata": {},
   "outputs": [
    {
     "data": {
      "text/plain": [
       "65437"
      ]
     },
     "execution_count": 35,
     "metadata": {},
     "output_type": "execute_result"
    }
   ],
   "source": [
    "df.shape[0]"
   ]
  },
  {
   "cell_type": "code",
   "execution_count": 36,
   "metadata": {},
   "outputs": [
    {
     "data": {
      "text/plain": [
       "ResponseId                 0\n",
       "MainBranch                 0\n",
       "Age                        0\n",
       "Employment                 0\n",
       "RemoteWork             10631\n",
       "                       ...  \n",
       "JobSatPoints_11        35992\n",
       "SurveyLength            9255\n",
       "SurveyEase              9199\n",
       "ConvertedCompYearly    42002\n",
       "JobSat                 36311\n",
       "Length: 114, dtype: int64"
      ]
     },
     "execution_count": 36,
     "metadata": {},
     "output_type": "execute_result"
    }
   ],
   "source": [
    "df.isnull().sum() #missing values "
   ]
  },
  {
   "cell_type": "code",
   "execution_count": 37,
   "metadata": {},
   "outputs": [],
   "source": [
    "# combining all"
   ]
  },
  {
   "cell_type": "code",
   "execution_count": 38,
   "metadata": {},
   "outputs": [
    {
     "name": "stdout",
     "output_type": "stream",
     "text": [
      "                                  Column Data Type  Non-Null Count  \\\n",
      "ResponseId                    ResponseId     int64           65437   \n",
      "MainBranch                    MainBranch    object           65437   \n",
      "Age                                  Age    object           65437   \n",
      "Employment                    Employment    object           65437   \n",
      "RemoteWork                    RemoteWork    object           54806   \n",
      "...                                  ...       ...             ...   \n",
      "JobSatPoints_11          JobSatPoints_11   float64           29445   \n",
      "SurveyLength                SurveyLength    object           56182   \n",
      "SurveyEase                    SurveyEase    object           56238   \n",
      "ConvertedCompYearly  ConvertedCompYearly   float64           23435   \n",
      "JobSat                            JobSat   float64           29126   \n",
      "\n",
      "                     Missing Values  \n",
      "ResponseId                        0  \n",
      "MainBranch                        0  \n",
      "Age                               0  \n",
      "Employment                        0  \n",
      "RemoteWork                    10631  \n",
      "...                             ...  \n",
      "JobSatPoints_11               35992  \n",
      "SurveyLength                   9255  \n",
      "SurveyEase                     9199  \n",
      "ConvertedCompYearly           42002  \n",
      "JobSat                        36311  \n",
      "\n",
      "[114 rows x 4 columns]\n"
     ]
    }
   ],
   "source": [
    "# Write your code here\n",
    "\n",
    "def summarize_dataset(df):\n",
    "    summary = {\n",
    "        \"Column\": df.columns,\n",
    "        \"Data Type\": df.dtypes,\n",
    "        \"Non-Null Count\": df.count(),\n",
    "        \"Missing Values\": df.isnull().sum()\n",
    "    }\n",
    "    return pd.DataFrame(summary)\n",
    "\n",
    "print(summarize_dataset(df))"
   ]
  },
  {
   "cell_type": "markdown",
   "metadata": {},
   "source": [
    "<h5>2.2 Generate basic statistics for numerical columns.</h5>\n"
   ]
  },
  {
   "cell_type": "code",
   "execution_count": 39,
   "metadata": {},
   "outputs": [
    {
     "name": "stdout",
     "output_type": "stream",
     "text": [
      "Statistics for column: ResponseId\n",
      "Mean: 32719.0\n",
      "Median: 32719.0\n",
      "Mode: 1\n",
      "Standard Deviation: 18890.179119496635\n",
      "Minimum Value: 1\n",
      "Maximum Value: 65437\n",
      "==================================================\n",
      "Statistics for column: CompTotal\n",
      "Mean: 2.9638411381149976e+145\n",
      "Median: 110000.0\n",
      "Mode: 100000.0\n",
      "Standard Deviation: 5.444117135142298e+147\n",
      "Minimum Value: 0.0\n",
      "Maximum Value: 1.0000000000000002e+150\n",
      "==================================================\n",
      "Statistics for column: WorkExp\n",
      "Mean: 11.46695663901814\n",
      "Median: 9.0\n",
      "Mode: 3.0\n",
      "Standard Deviation: 9.168708536230723\n",
      "Minimum Value: 0.0\n",
      "Maximum Value: 50.0\n",
      "==================================================\n",
      "Statistics for column: JobSatPoints_1\n",
      "Mean: 18.5810939844496\n",
      "Median: 10.0\n",
      "Mode: 0.0\n",
      "Standard Deviation: 25.96622143303675\n",
      "Minimum Value: 0.0\n",
      "Maximum Value: 100.0\n",
      "==================================================\n",
      "Statistics for column: JobSatPoints_4\n",
      "Mean: 7.5221396250808015\n",
      "Median: 0.0\n",
      "Mode: 0.0\n",
      "Standard Deviation: 18.422660606642502\n",
      "Minimum Value: 0.0\n",
      "Maximum Value: 100.0\n",
      "==================================================\n",
      "Statistics for column: JobSatPoints_5\n",
      "Mean: 10.06085733229064\n",
      "Median: 0.0\n",
      "Mode: 0.0\n",
      "Standard Deviation: 21.83383579723883\n",
      "Minimum Value: 0.0\n",
      "Maximum Value: 100.0\n",
      "==================================================\n",
      "Statistics for column: JobSatPoints_6\n",
      "Mean: 24.34323191850594\n",
      "Median: 20.0\n",
      "Mode: 0.0\n",
      "Standard Deviation: 27.089360064172926\n",
      "Minimum Value: 0.0\n",
      "Maximum Value: 100.0\n",
      "==================================================\n",
      "Statistics for column: JobSatPoints_7\n",
      "Mean: 22.965220218690572\n",
      "Median: 15.0\n",
      "Mode: 0.0\n",
      "Standard Deviation: 27.017739704893856\n",
      "Minimum Value: 0.0\n",
      "Maximum Value: 100.0\n",
      "==================================================\n",
      "Statistics for column: JobSatPoints_8\n",
      "Mean: 20.278165059750137\n",
      "Median: 10.0\n",
      "Mode: 0.0\n",
      "Standard Deviation: 26.108110241474208\n",
      "Minimum Value: 0.0\n",
      "Maximum Value: 100.0\n",
      "==================================================\n",
      "Statistics for column: JobSatPoints_9\n",
      "Mean: 16.169432373709938\n",
      "Median: 5.0\n",
      "Mode: 0.0\n",
      "Standard Deviation: 24.845032218429335\n",
      "Minimum Value: 0.0\n",
      "Maximum Value: 100.0\n",
      "==================================================\n",
      "Statistics for column: JobSatPoints_10\n",
      "Mean: 10.955713073005093\n",
      "Median: 0.0\n",
      "Mode: 0.0\n",
      "Standard Deviation: 22.90626262638887\n",
      "Minimum Value: 0.0\n",
      "Maximum Value: 100.0\n",
      "==================================================\n",
      "Statistics for column: JobSatPoints_11\n",
      "Mean: 9.95394803871625\n",
      "Median: 0.0\n",
      "Mode: 0.0\n",
      "Standard Deviation: 21.775651600663775\n",
      "Minimum Value: 0.0\n",
      "Maximum Value: 100.0\n",
      "==================================================\n",
      "Statistics for column: ConvertedCompYearly\n",
      "Mean: 86155.28726264134\n",
      "Median: 65000.0\n",
      "Mode: 64444.0\n",
      "Standard Deviation: 186756.97308629757\n",
      "Minimum Value: 1.0\n",
      "Maximum Value: 16256603.0\n",
      "==================================================\n",
      "Statistics for column: JobSat\n",
      "Mean: 6.9350408569662845\n",
      "Median: 7.0\n",
      "Mode: 8.0\n",
      "Standard Deviation: 2.0882594128016483\n",
      "Minimum Value: 0.0\n",
      "Maximum Value: 10.0\n",
      "==================================================\n"
     ]
    }
   ],
   "source": [
    "# List of numerical columns to analyze (adjust as necessary)\n",
    "numerical_columns = df.select_dtypes(include='number').columns\n",
    "\n",
    "# Iterate through each numerical column and calculate statistics\n",
    "for column in numerical_columns:\n",
    "    print(f\"Statistics for column: {column}\")\n",
    "    \n",
    "    # Calculate the mean\n",
    "    mean = df[column].mean()\n",
    "\n",
    "    # Calculate the median\n",
    "    median = df[column].median()\n",
    "\n",
    "    # Calculate the mode\n",
    "    mode = df[column].mode().values[0] if not df[column].mode().empty else None\n",
    "\n",
    "    # Calculate the standard deviation\n",
    "    std_dev = df[column].std()\n",
    "\n",
    "    # Find the minimum value\n",
    "    min_val = df[column].min()\n",
    "\n",
    "    # Find the maximum value\n",
    "    max_val = df[column].max()\n",
    "\n",
    "    # Output the results\n",
    "    print(\"Mean:\", mean)\n",
    "    print(\"Median:\", median)\n",
    "    print(\"Mode:\", mode)\n",
    "    print(\"Standard Deviation:\", std_dev)\n",
    "    print(\"Minimum Value:\", min_val)\n",
    "    print(\"Maximum Value:\", max_val)\n",
    "    print(\"=\" * 50)\n",
    "\n"
   ]
  },
  {
   "cell_type": "code",
   "execution_count": 40,
   "metadata": {},
   "outputs": [
    {
     "name": "stdout",
     "output_type": "stream",
     "text": [
      "                              Mean    Median      Mode  Standard Deviation  \\\n",
      "ResponseId            3.271900e+04   32719.0       1.0        1.889018e+04   \n",
      "CompTotal            2.963841e+145  110000.0  100000.0       5.444117e+147   \n",
      "WorkExp               1.146696e+01       9.0       3.0        9.168709e+00   \n",
      "JobSatPoints_1        1.858109e+01      10.0       0.0        2.596622e+01   \n",
      "JobSatPoints_4        7.522140e+00       0.0       0.0        1.842266e+01   \n",
      "JobSatPoints_5        1.006086e+01       0.0       0.0        2.183384e+01   \n",
      "JobSatPoints_6        2.434323e+01      20.0       0.0        2.708936e+01   \n",
      "JobSatPoints_7        2.296522e+01      15.0       0.0        2.701774e+01   \n",
      "JobSatPoints_8        2.027817e+01      10.0       0.0        2.610811e+01   \n",
      "JobSatPoints_9        1.616943e+01       5.0       0.0        2.484503e+01   \n",
      "JobSatPoints_10       1.095571e+01       0.0       0.0        2.290626e+01   \n",
      "JobSatPoints_11       9.953948e+00       0.0       0.0        2.177565e+01   \n",
      "ConvertedCompYearly   8.615529e+04   65000.0   64444.0        1.867570e+05   \n",
      "JobSat                6.935041e+00       7.0       8.0        2.088259e+00   \n",
      "\n",
      "                     Min            Max  \n",
      "ResponseId           1.0   6.543700e+04  \n",
      "CompTotal            0.0  1.000000e+150  \n",
      "WorkExp              0.0   5.000000e+01  \n",
      "JobSatPoints_1       0.0   1.000000e+02  \n",
      "JobSatPoints_4       0.0   1.000000e+02  \n",
      "JobSatPoints_5       0.0   1.000000e+02  \n",
      "JobSatPoints_6       0.0   1.000000e+02  \n",
      "JobSatPoints_7       0.0   1.000000e+02  \n",
      "JobSatPoints_8       0.0   1.000000e+02  \n",
      "JobSatPoints_9       0.0   1.000000e+02  \n",
      "JobSatPoints_10      0.0   1.000000e+02  \n",
      "JobSatPoints_11      0.0   1.000000e+02  \n",
      "ConvertedCompYearly  1.0   1.625660e+07  \n",
      "JobSat               0.0   1.000000e+01  \n"
     ]
    }
   ],
   "source": [
    "# Write your code here\n",
    "from scipy import stats\n",
    "\n",
    "# Function to generate basic statistics\n",
    "def generate_statistics(df):\n",
    "    statistics = pd.DataFrame(columns=['Mean', 'Median', 'Mode', 'Standard Deviation', 'Min', 'Max'])\n",
    "\n",
    "    for column in df.select_dtypes(include=['number']).columns:\n",
    "        mean = df[column].mean()\n",
    "        median = df[column].median()\n",
    "        mode = df[column].mode().values[0] if not df[column].mode().empty else None\n",
    "        std_dev = df[column].std()\n",
    "        min_val = df[column].min()\n",
    "        max_val = df[column].max()\n",
    "\n",
    "        statistics.loc[column] = [mean, median, mode, std_dev, min_val, max_val]\n",
    "\n",
    "    return statistics\n",
    "\n",
    "# Generate and display statistics\n",
    "stats_df = generate_statistics(df)\n",
    "print(stats_df)\n"
   ]
  },
  {
   "cell_type": "markdown",
   "metadata": {},
   "source": [
    "### 3. Identifying and Removing Inconsistencies\n"
   ]
  },
  {
   "cell_type": "markdown",
   "metadata": {},
   "source": [
    "<h5>3.1 Identify inconsistent or irrelevant entries in specific columns (e.g., Country).</h5>\n"
   ]
  },
  {
   "cell_type": "code",
   "execution_count": 53,
   "metadata": {},
   "outputs": [
    {
     "name": "stdout",
     "output_type": "stream",
     "text": [
      "Unique values in the column:\n",
      " ['United States of America'\n",
      " 'United Kingdom of Great Britain and Northern Ireland' 'Canada' 'Norway'\n",
      " 'Uzbekistan' 'Serbia' 'Poland' 'Philippines' 'Bulgaria' 'Switzerland'\n",
      " 'India' 'Germany' 'Ireland' 'Italy' 'Ukraine' 'Australia' 'Brazil'\n",
      " 'Japan' 'Austria' 'Iran, Islamic Republic of...' 'France' 'Saudi Arabia'\n",
      " 'Romania' 'Turkey' 'Nepal' 'Algeria' 'Sweden' 'Netherlands' 'Croatia'\n",
      " 'Pakistan' 'Czech Republic' 'Republic of North Macedonia' 'Finland'\n",
      " 'Slovakia' 'Russian Federation' 'Greece' 'Israel' 'Belgium' 'Mexico'\n",
      " 'United Republic of Tanzania' 'Hungary' 'Argentina' 'Portugal'\n",
      " 'Sri Lanka' 'Latvia' 'China' 'Singapore' 'Lebanon' 'Spain' 'South Africa'\n",
      " 'Lithuania' 'Viet Nam' 'Dominican Republic' 'Indonesia' 'Kosovo'\n",
      " 'Morocco' 'Taiwan' 'Georgia' 'San Marino' 'Tunisia' 'Bangladesh'\n",
      " 'Nigeria' 'Liechtenstein' 'Denmark' 'Ecuador' 'Malaysia' 'Albania'\n",
      " 'Azerbaijan' 'Chile' 'Ghana' 'Peru' 'Bolivia' 'Egypt' 'Luxembourg'\n",
      " 'Montenegro' 'Cyprus' 'Paraguay' 'Kazakhstan' 'Slovenia' 'Jordan'\n",
      " 'Venezuela, Bolivarian Republic of...' 'Costa Rica' 'Jamaica' 'Thailand'\n",
      " 'Nicaragua' 'Myanmar' 'Republic of Korea' 'Rwanda'\n",
      " 'Bosnia and Herzegovina' 'Benin' 'El Salvador' 'Zimbabwe' 'Afghanistan'\n",
      " 'Estonia' 'Malta' 'Uruguay' 'Belarus' 'Colombia' 'Republic of Moldova'\n",
      " 'Isle of Man' 'Nomadic' 'New Zealand' 'Palestine' 'Armenia'\n",
      " 'United Arab Emirates' 'Maldives' 'Ethiopia' 'Fiji' 'Guatemala' 'Uganda'\n",
      " 'Turkmenistan' 'Mauritius' 'Kenya' 'Cuba' 'Gabon' 'Bahamas' 'South Korea'\n",
      " 'Iceland' 'Honduras' 'Hong Kong (S.A.R.)'\n",
      " \"Lao People's Democratic Republic\" 'Mongolia' 'Cambodia' 'Madagascar'\n",
      " 'Angola' 'Democratic Republic of the Congo' 'Syrian Arab Republic' 'Iraq'\n",
      " 'Namibia' 'Senegal' 'Kyrgyzstan' 'Zambia' 'Swaziland' \"Côte d'Ivoire\"\n",
      " 'Kuwait' 'Tajikistan' 'Burundi' 'Trinidad and Tobago' 'Mauritania'\n",
      " 'Sierra Leone' 'Panama' 'Somalia' 'North Korea' 'Dominica' 'Guyana'\n",
      " 'Togo' 'Oman' 'Barbados' 'Andorra'\n",
      " \"Democratic People's Republic of Korea\" 'Qatar' 'Sudan' 'Cameroon'\n",
      " 'Papua New Guinea' 'Bahrain' 'Yemen' 'Malawi' 'Burkina Faso'\n",
      " 'Congo, Republic of the...' 'Botswana' 'Guinea-Bissau' 'Mozambique'\n",
      " 'Central African Republic' 'Equatorial Guinea' 'Suriname' 'Belize'\n",
      " 'Libyan Arab Jamahiriya' 'Cape Verde' 'Brunei Darussalam' 'Bhutan'\n",
      " 'Guinea' 'Niger' 'Antigua and Barbuda' 'Mali' 'Samoa' 'Lesotho'\n",
      " 'Saint Kitts and Nevis' 'Monaco' 'Micronesia, Federated States of...'\n",
      " 'Haiti' nan 'Nauru' 'Liberia' 'Chad' 'Djibouti' 'Solomon Islands']\n",
      "\n",
      "Rows with null or blank values:\n",
      "        ResponseId                                         MainBranch  \\\n",
      "43448       43449  I am not primarily a developer, but I write co...   \n",
      "43454       43455                     I am a developer by profession   \n",
      "43459       43460  I am not primarily a developer, but I write co...   \n",
      "43460       43461                     I am a developer by profession   \n",
      "43461       43462                     I am a developer by profession   \n",
      "...           ...                                                ...   \n",
      "65430       65431                              I am learning to code   \n",
      "65432       65433                     I am a developer by profession   \n",
      "65433       65434                     I am a developer by profession   \n",
      "65434       65435                     I am a developer by profession   \n",
      "65436       65437                        I code primarily as a hobby   \n",
      "\n",
      "                   Age                                         Employment  \\\n",
      "43448  35-44 years old  Independent contractor, freelancer, or self-em...   \n",
      "43454  25-34 years old                                Employed, full-time   \n",
      "43459  25-34 years old             Not employed, and not looking for work   \n",
      "43460  35-44 years old                                Employed, full-time   \n",
      "43461  25-34 years old                                Employed, full-time   \n",
      "...                ...                                                ...   \n",
      "65430  18-24 years old  Not employed, but looking for work;Employed, p...   \n",
      "65432  18-24 years old                                Employed, full-time   \n",
      "65433  25-34 years old                                Employed, full-time   \n",
      "65434  25-34 years old                                Employed, full-time   \n",
      "65436  18-24 years old                                 Student, full-time   \n",
      "\n",
      "                                 RemoteWork   Check  \\\n",
      "43448                                Remote  Apples   \n",
      "43454  Hybrid (some remote, some in-person)  Apples   \n",
      "43459                                   NaN  Apples   \n",
      "43460                                Remote  Apples   \n",
      "43461  Hybrid (some remote, some in-person)  Apples   \n",
      "...                                     ...     ...   \n",
      "65430                             In-person  Apples   \n",
      "65432                                Remote  Apples   \n",
      "65433                                Remote  Apples   \n",
      "65434                             In-person  Apples   \n",
      "65436                                   NaN  Apples   \n",
      "\n",
      "                                        CodingActivities  \\\n",
      "43448  Contribute to open-source projects;Bootstrappi...   \n",
      "43454  Professional development or self-paced learnin...   \n",
      "43459                                                NaN   \n",
      "43460                       I don’t code outside of work   \n",
      "43461           Hobby;Contribute to open-source projects   \n",
      "...                                                  ...   \n",
      "65430  Hobby;Professional development or self-paced l...   \n",
      "65432                      Hobby;School or academic work   \n",
      "65433           Hobby;Contribute to open-source projects   \n",
      "65434                                              Hobby   \n",
      "65436                                                NaN   \n",
      "\n",
      "                                               EdLevel  \\\n",
      "43448                                              NaN   \n",
      "43454                                              NaN   \n",
      "43459                                              NaN   \n",
      "43460  Master’s degree (M.A., M.S., M.Eng., MBA, etc.)   \n",
      "43461  Master’s degree (M.A., M.S., M.Eng., MBA, etc.)   \n",
      "...                                                ...   \n",
      "65430                                              NaN   \n",
      "65432     Bachelor’s degree (B.A., B.S., B.Eng., etc.)   \n",
      "65433                                              NaN   \n",
      "65434     Bachelor’s degree (B.A., B.S., B.Eng., etc.)   \n",
      "65436                                              NaN   \n",
      "\n",
      "                                               LearnCode  \\\n",
      "43448                                                NaN   \n",
      "43454                                                NaN   \n",
      "43459                                                NaN   \n",
      "43460  On the job training;Other online resources (e....   \n",
      "43461  On the job training;Other online resources (e....   \n",
      "...                                                  ...   \n",
      "65430                                                NaN   \n",
      "65432  On the job training;School (i.e., University, ...   \n",
      "65433                                                NaN   \n",
      "65434  Other online resources (e.g., videos, blogs, f...   \n",
      "65436                                                NaN   \n",
      "\n",
      "                                         LearnCodeOnline  ... JobSatPoints_6  \\\n",
      "43448                                                NaN  ...            NaN   \n",
      "43454                                                NaN  ...            NaN   \n",
      "43459                                                NaN  ...            NaN   \n",
      "43460  Blogs;How-to videos;Interactive tutorial;Video...  ...            NaN   \n",
      "43461  Technical documentation;Blogs;Written Tutorial...  ...            NaN   \n",
      "...                                                  ...  ...            ...   \n",
      "65430                                                NaN  ...            NaN   \n",
      "65432                                                NaN  ...            NaN   \n",
      "65433                                                NaN  ...            NaN   \n",
      "65434  Technical documentation;Stack Overflow;Social ...  ...            NaN   \n",
      "65436                                                NaN  ...            NaN   \n",
      "\n",
      "      JobSatPoints_7 JobSatPoints_8 JobSatPoints_9 JobSatPoints_10  \\\n",
      "43448            NaN            NaN            NaN             NaN   \n",
      "43454            NaN            NaN            NaN             NaN   \n",
      "43459            NaN            NaN            NaN             NaN   \n",
      "43460            NaN            NaN            NaN             NaN   \n",
      "43461            NaN            NaN            NaN             NaN   \n",
      "...              ...            ...            ...             ...   \n",
      "65430            NaN            NaN            NaN             NaN   \n",
      "65432            NaN            NaN            NaN             NaN   \n",
      "65433            NaN            NaN            NaN             NaN   \n",
      "65434            NaN            NaN            NaN             NaN   \n",
      "65436            NaN            NaN            NaN             NaN   \n",
      "\n",
      "      JobSatPoints_11 SurveyLength SurveyEase ConvertedCompYearly JobSat  \n",
      "43448             NaN          NaN        NaN                 NaN    NaN  \n",
      "43454             NaN          NaN        NaN                 NaN    NaN  \n",
      "43459             NaN          NaN        NaN                 NaN    NaN  \n",
      "43460             NaN          NaN        NaN                 NaN    NaN  \n",
      "43461             NaN          NaN        NaN                 NaN    NaN  \n",
      "...               ...          ...        ...                 ...    ...  \n",
      "65430             NaN          NaN        NaN                 NaN    NaN  \n",
      "65432             NaN          NaN        NaN                 NaN    NaN  \n",
      "65433             NaN          NaN        NaN                 NaN    NaN  \n",
      "65434             NaN          NaN        NaN                 NaN    NaN  \n",
      "65436             NaN          NaN        NaN                 NaN    NaN  \n",
      "\n",
      "[6507 rows x 114 columns]\n",
      "\n",
      "Rows with irrelevant numeric entries:\n",
      " Empty DataFrame\n",
      "Columns: [ResponseId, MainBranch, Age, Employment, RemoteWork, Check, CodingActivities, EdLevel, LearnCode, LearnCodeOnline, TechDoc, YearsCode, YearsCodePro, DevType, OrgSize, PurchaseInfluence, BuyNewTool, BuildvsBuy, TechEndorse, Country, Currency, CompTotal, LanguageHaveWorkedWith, LanguageWantToWorkWith, LanguageAdmired, DatabaseHaveWorkedWith, DatabaseWantToWorkWith, DatabaseAdmired, PlatformHaveWorkedWith, PlatformWantToWorkWith, PlatformAdmired, WebframeHaveWorkedWith, WebframeWantToWorkWith, WebframeAdmired, EmbeddedHaveWorkedWith, EmbeddedWantToWorkWith, EmbeddedAdmired, MiscTechHaveWorkedWith, MiscTechWantToWorkWith, MiscTechAdmired, ToolsTechHaveWorkedWith, ToolsTechWantToWorkWith, ToolsTechAdmired, NEWCollabToolsHaveWorkedWith, NEWCollabToolsWantToWorkWith, NEWCollabToolsAdmired, OpSysPersonal use, OpSysProfessional use, OfficeStackAsyncHaveWorkedWith, OfficeStackAsyncWantToWorkWith, OfficeStackAsyncAdmired, OfficeStackSyncHaveWorkedWith, OfficeStackSyncWantToWorkWith, OfficeStackSyncAdmired, AISearchDevHaveWorkedWith, AISearchDevWantToWorkWith, AISearchDevAdmired, NEWSOSites, SOVisitFreq, SOAccount, SOPartFreq, SOHow, SOComm, AISelect, AISent, AIBen, AIAcc, AIComplex, AIToolCurrently Using, AIToolInterested in Using, AIToolNot interested in Using, AINextMuch more integrated, AINextNo change, AINextMore integrated, AINextLess integrated, AINextMuch less integrated, AIThreat, AIEthics, AIChallenges, TBranch, ICorPM, WorkExp, Knowledge_1, Knowledge_2, Knowledge_3, Knowledge_4, Knowledge_5, Knowledge_6, Knowledge_7, Knowledge_8, Knowledge_9, Frequency_1, Frequency_2, Frequency_3, TimeSearching, TimeAnswering, Frustration, ProfessionalTech, ProfessionalCloud, ProfessionalQuestion, ...]\n",
      "Index: []\n",
      "\n",
      "[0 rows x 114 columns]\n",
      "\n",
      "Cleaned unique values:\n",
      " ['United States Of America'\n",
      " 'United Kingdom Of Great Britain And Northern Ireland' 'Canada' 'Norway'\n",
      " 'Uzbekistan' 'Serbia' 'Poland' 'Philippines' 'Bulgaria' 'Switzerland'\n",
      " 'India' 'Germany' 'Ireland' 'Italy' 'Ukraine' 'Australia' 'Brazil'\n",
      " 'Japan' 'Austria' 'Iran, Islamic Republic Of...' 'France' 'Saudi Arabia'\n",
      " 'Romania' 'Turkey' 'Nepal' 'Algeria' 'Sweden' 'Netherlands' 'Croatia'\n",
      " 'Pakistan' 'Czech Republic' 'Republic Of North Macedonia' 'Finland'\n",
      " 'Slovakia' 'Russian Federation' 'Greece' 'Israel' 'Belgium' 'Mexico'\n",
      " 'United Republic Of Tanzania' 'Hungary' 'Argentina' 'Portugal'\n",
      " 'Sri Lanka' 'Latvia' 'China' 'Singapore' 'Lebanon' 'Spain' 'South Africa'\n",
      " 'Lithuania' 'Viet Nam' 'Dominican Republic' 'Indonesia' 'Kosovo'\n",
      " 'Morocco' 'Taiwan' 'Georgia' 'San Marino' 'Tunisia' 'Bangladesh'\n",
      " 'Nigeria' 'Liechtenstein' 'Denmark' 'Ecuador' 'Malaysia' 'Albania'\n",
      " 'Azerbaijan' 'Chile' 'Ghana' 'Peru' 'Bolivia' 'Egypt' 'Luxembourg'\n",
      " 'Montenegro' 'Cyprus' 'Paraguay' 'Kazakhstan' 'Slovenia' 'Jordan'\n",
      " 'Venezuela, Bolivarian Republic Of...' 'Costa Rica' 'Jamaica' 'Thailand'\n",
      " 'Nicaragua' 'Myanmar' 'Republic Of Korea' 'Rwanda'\n",
      " 'Bosnia And Herzegovina' 'Benin' 'El Salvador' 'Zimbabwe' 'Afghanistan'\n",
      " 'Estonia' 'Malta' 'Uruguay' 'Belarus' 'Colombia' 'Republic Of Moldova'\n",
      " 'Isle Of Man' 'Nomadic' 'New Zealand' 'Palestine' 'Armenia'\n",
      " 'United Arab Emirates' 'Maldives' 'Ethiopia' 'Fiji' 'Guatemala' 'Uganda'\n",
      " 'Turkmenistan' 'Mauritius' 'Kenya' 'Cuba' 'Gabon' 'Bahamas' 'South Korea'\n",
      " 'Iceland' 'Honduras' 'Hong Kong (S.A.R.)'\n",
      " \"Lao People'S Democratic Republic\" 'Mongolia' 'Cambodia' 'Madagascar'\n",
      " 'Angola' 'Democratic Republic Of The Congo' 'Syrian Arab Republic' 'Iraq'\n",
      " 'Namibia' 'Senegal' 'Kyrgyzstan' 'Zambia' 'Swaziland' \"Côte D'Ivoire\"\n",
      " 'Kuwait' 'Tajikistan' 'Burundi' 'Trinidad And Tobago' 'Mauritania'\n",
      " 'Sierra Leone' 'Panama' 'Somalia' 'North Korea' 'Dominica' 'Guyana'\n",
      " 'Togo' 'Oman' 'Barbados' 'Andorra'\n",
      " \"Democratic People'S Republic Of Korea\" 'Qatar' 'Sudan' 'Cameroon'\n",
      " 'Papua New Guinea' 'Bahrain' 'Yemen' 'Malawi' 'Burkina Faso'\n",
      " 'Congo, Republic Of The...' 'Botswana' 'Guinea-Bissau' 'Mozambique'\n",
      " 'Central African Republic' 'Equatorial Guinea' 'Suriname' 'Belize'\n",
      " 'Libyan Arab Jamahiriya' 'Cape Verde' 'Brunei Darussalam' 'Bhutan'\n",
      " 'Guinea' 'Niger' 'Antigua And Barbuda' 'Mali' 'Samoa' 'Lesotho'\n",
      " 'Saint Kitts And Nevis' 'Monaco' 'Micronesia, Federated States Of...'\n",
      " 'Haiti' nan 'Nauru' 'Liberia' 'Chad' 'Djibouti' 'Solomon Islands']\n"
     ]
    }
   ],
   "source": [
    "# Write your code here\n",
    "\n",
    "# Choose the column to analyze (\"Country\")\n",
    "column_to_analyze = \"Country\"\n",
    "\n",
    "# Inspect unique values in the column\n",
    "unique_values = df[column_to_analyze].unique()\n",
    "print(\"Unique values in the column:\\n\", unique_values)\n",
    "\n",
    "# Identify potential inconsistencies:\n",
    "# Step 1: Look for null or blank entries\n",
    "null_or_blank = df[df[column_to_analyze].isnull() | (df[column_to_analyze].str.strip() == \"\")]\n",
    "print(\"\\nRows with null or blank values:\\n\", null_or_blank)\n",
    "\n",
    "# Step 2: Detect values that seem irrelevant (e.g., numbers in \"Country\" column)\n",
    "irrelevant_entries = df[df[column_to_analyze].str.isdigit() == True]\n",
    "print(\"\\nRows with irrelevant numeric entries:\\n\", irrelevant_entries)\n",
    "\n",
    "# Step 3: Standardize formatting (e.g., capitalization, remove extra spaces)\n",
    "df[column_to_analyze] = df[column_to_analyze].str.strip().str.title()\n",
    "\n",
    "# Step 4: Re-check unique values after cleaning\n",
    "cleaned_unique_values = df[column_to_analyze].unique()\n",
    "print(\"\\nCleaned unique values:\\n\", cleaned_unique_values)\n"
   ]
  },
  {
   "cell_type": "markdown",
   "metadata": {},
   "source": [
    "<h5>3.2 Standardize entries in columns like Country or EdLevel by mapping inconsistent values to a consistent format.</h5>\n"
   ]
  },
  {
   "cell_type": "code",
   "execution_count": 54,
   "metadata": {},
   "outputs": [
    {
     "name": "stdout",
     "output_type": "stream",
     "text": [
      "Unique values in 'Country':\n",
      " ['United States Of America'\n",
      " 'United Kingdom Of Great Britain And Northern Ireland' 'Canada' 'Norway'\n",
      " 'Uzbekistan' 'Serbia' 'Poland' 'Philippines' 'Bulgaria' 'Switzerland'\n",
      " 'India' 'Germany' 'Ireland' 'Italy' 'Ukraine' 'Australia' 'Brazil'\n",
      " 'Japan' 'Austria' 'Iran, Islamic Republic Of...' 'France' 'Saudi Arabia'\n",
      " 'Romania' 'Turkey' 'Nepal' 'Algeria' 'Sweden' 'Netherlands' 'Croatia'\n",
      " 'Pakistan' 'Czech Republic' 'Republic Of North Macedonia' 'Finland'\n",
      " 'Slovakia' 'Russian Federation' 'Greece' 'Israel' 'Belgium' 'Mexico'\n",
      " 'United Republic Of Tanzania' 'Hungary' 'Argentina' 'Portugal'\n",
      " 'Sri Lanka' 'Latvia' 'China' 'Singapore' 'Lebanon' 'Spain' 'South Africa'\n",
      " 'Lithuania' 'Viet Nam' 'Dominican Republic' 'Indonesia' 'Kosovo'\n",
      " 'Morocco' 'Taiwan' 'Georgia' 'San Marino' 'Tunisia' 'Bangladesh'\n",
      " 'Nigeria' 'Liechtenstein' 'Denmark' 'Ecuador' 'Malaysia' 'Albania'\n",
      " 'Azerbaijan' 'Chile' 'Ghana' 'Peru' 'Bolivia' 'Egypt' 'Luxembourg'\n",
      " 'Montenegro' 'Cyprus' 'Paraguay' 'Kazakhstan' 'Slovenia' 'Jordan'\n",
      " 'Venezuela, Bolivarian Republic Of...' 'Costa Rica' 'Jamaica' 'Thailand'\n",
      " 'Nicaragua' 'Myanmar' 'Republic Of Korea' 'Rwanda'\n",
      " 'Bosnia And Herzegovina' 'Benin' 'El Salvador' 'Zimbabwe' 'Afghanistan'\n",
      " 'Estonia' 'Malta' 'Uruguay' 'Belarus' 'Colombia' 'Republic Of Moldova'\n",
      " 'Isle Of Man' 'Nomadic' 'New Zealand' 'Palestine' 'Armenia'\n",
      " 'United Arab Emirates' 'Maldives' 'Ethiopia' 'Fiji' 'Guatemala' 'Uganda'\n",
      " 'Turkmenistan' 'Mauritius' 'Kenya' 'Cuba' 'Gabon' 'Bahamas' 'South Korea'\n",
      " 'Iceland' 'Honduras' 'Hong Kong (S.A.R.)'\n",
      " \"Lao People'S Democratic Republic\" 'Mongolia' 'Cambodia' 'Madagascar'\n",
      " 'Angola' 'Democratic Republic Of The Congo' 'Syrian Arab Republic' 'Iraq'\n",
      " 'Namibia' 'Senegal' 'Kyrgyzstan' 'Zambia' 'Swaziland' \"Côte D'Ivoire\"\n",
      " 'Kuwait' 'Tajikistan' 'Burundi' 'Trinidad And Tobago' 'Mauritania'\n",
      " 'Sierra Leone' 'Panama' 'Somalia' 'North Korea' 'Dominica' 'Guyana'\n",
      " 'Togo' 'Oman' 'Barbados' 'Andorra'\n",
      " \"Democratic People'S Republic Of Korea\" 'Qatar' 'Sudan' 'Cameroon'\n",
      " 'Papua New Guinea' 'Bahrain' 'Yemen' 'Malawi' 'Burkina Faso'\n",
      " 'Congo, Republic Of The...' 'Botswana' 'Guinea-Bissau' 'Mozambique'\n",
      " 'Central African Republic' 'Equatorial Guinea' 'Suriname' 'Belize'\n",
      " 'Libyan Arab Jamahiriya' 'Cape Verde' 'Brunei Darussalam' 'Bhutan'\n",
      " 'Guinea' 'Niger' 'Antigua And Barbuda' 'Mali' 'Samoa' 'Lesotho'\n",
      " 'Saint Kitts And Nevis' 'Monaco' 'Micronesia, Federated States Of...'\n",
      " 'Haiti' nan 'Nauru' 'Liberia' 'Chad' 'Djibouti' 'Solomon Islands']\n",
      "\n",
      "Unique values in 'EdLevel':\n",
      " ['Primary/elementary school'\n",
      " 'Bachelor’s degree (B.A., B.S., B.Eng., etc.)'\n",
      " 'Master’s degree (M.A., M.S., M.Eng., MBA, etc.)'\n",
      " 'Some college/university study without earning a degree'\n",
      " 'Secondary school (e.g. American high school, German Realschule or Gymnasium, etc.)'\n",
      " 'Professional degree (JD, MD, Ph.D, Ed.D, etc.)'\n",
      " 'Associate degree (A.A., A.S., etc.)' 'Something else' nan]\n"
     ]
    }
   ],
   "source": [
    "## Write your code here\n",
    "\n",
    "\n",
    "# Standardize the \"Country\" column\n",
    "country_mapping = {\n",
    "    \"USA\": \"United States\",\n",
    "    \"U.S.A.\": \"United States\",\n",
    "    \"United States of America\": \"United States\",\n",
    "    \"India\": \"India\",\n",
    "    \"INDIA\": \"India\",\n",
    "    \"uk\": \"United Kingdom\",\n",
    "    \"UK\": \"United Kingdom\",\n",
    "    \"U.K.\": \"United Kingdom\"\n",
    "}\n",
    "\n",
    "df[\"Country\"] = df[\"Country\"].replace(country_mapping)\n",
    "\n",
    "# Standardize the \"EdLevel\" column\n",
    "edlevel_mapping = {\n",
    "    \"Bachelors\": \"Bachelor's Degree\",\n",
    "    \"Bachelor's\": \"Bachelor's Degree\",\n",
    "    \"Masters\": \"Master's Degree\",\n",
    "    \"Master's\": \"Master's Degree\",\n",
    "    \"PhD\": \"Doctorate\",\n",
    "    \"Doctorate (PhD)\": \"Doctorate\",\n",
    "    \"High School\": \"High School Diploma\",\n",
    "    \"Highschool\": \"High School Diploma\"\n",
    "}\n",
    "\n",
    "df[\"EdLevel\"] = df[\"EdLevel\"].replace(edlevel_mapping)\n",
    "\n",
    "# Check the standardized unique values in each column\n",
    "print(\"Unique values in 'Country':\\n\", df[\"Country\"].unique())\n",
    "print(\"\\nUnique values in 'EdLevel':\\n\", df[\"EdLevel\"].unique())\n"
   ]
  },
  {
   "cell_type": "markdown",
   "metadata": {},
   "source": [
    "### 4. Encoding Categorical Variables\n"
   ]
  },
  {
   "cell_type": "markdown",
   "metadata": {},
   "source": [
    "<h5>4.1 Encode the Employment column using one-hot encoding.</h5>\n"
   ]
  },
  {
   "cell_type": "code",
   "execution_count": 55,
   "metadata": {},
   "outputs": [
    {
     "name": "stdout",
     "output_type": "stream",
     "text": [
      "   ResponseId                      MainBranch                 Age RemoteWork  \\\n",
      "0           1  I am a developer by profession  Under 18 years old     Remote   \n",
      "1           2  I am a developer by profession     35-44 years old     Remote   \n",
      "2           3  I am a developer by profession     45-54 years old     Remote   \n",
      "3           4           I am learning to code     18-24 years old        NaN   \n",
      "4           5  I am a developer by profession     18-24 years old        NaN   \n",
      "\n",
      "    Check                                   CodingActivities  \\\n",
      "0  Apples                                              Hobby   \n",
      "1  Apples  Hobby;Contribute to open-source projects;Other...   \n",
      "2  Apples  Hobby;Contribute to open-source projects;Other...   \n",
      "3  Apples                                                NaN   \n",
      "4  Apples                                                NaN   \n",
      "\n",
      "                                             EdLevel  \\\n",
      "0                          Primary/elementary school   \n",
      "1       Bachelor’s degree (B.A., B.S., B.Eng., etc.)   \n",
      "2    Master’s degree (M.A., M.S., M.Eng., MBA, etc.)   \n",
      "3  Some college/university study without earning ...   \n",
      "4  Secondary school (e.g. American high school, G...   \n",
      "\n",
      "                                           LearnCode  \\\n",
      "0                             Books / Physical media   \n",
      "1  Books / Physical media;Colleague;On the job tr...   \n",
      "2  Books / Physical media;Colleague;On the job tr...   \n",
      "3  Other online resources (e.g., videos, blogs, f...   \n",
      "4  Other online resources (e.g., videos, blogs, f...   \n",
      "\n",
      "                                     LearnCodeOnline  \\\n",
      "0                                                NaN   \n",
      "1  Technical documentation;Blogs;Books;Written Tu...   \n",
      "2  Technical documentation;Blogs;Books;Written Tu...   \n",
      "3  Stack Overflow;How-to videos;Interactive tutorial   \n",
      "4  Technical documentation;Blogs;Written Tutorial...   \n",
      "\n",
      "                                             TechDoc  ...  \\\n",
      "0                                                NaN  ...   \n",
      "1  API document(s) and/or SDK document(s);User gu...  ...   \n",
      "2  API document(s) and/or SDK document(s);User gu...  ...   \n",
      "3                                                NaN  ...   \n",
      "4  API document(s) and/or SDK document(s);User gu...  ...   \n",
      "\n",
      "  Employment_Student, full-time;Not employed, but looking for work;Not employed, and not looking for work;Student, part-time  \\\n",
      "0                                              False                                                                           \n",
      "1                                              False                                                                           \n",
      "2                                              False                                                                           \n",
      "3                                              False                                                                           \n",
      "4                                              False                                                                           \n",
      "\n",
      "  Employment_Student, full-time;Not employed, but looking for work;Retired  \\\n",
      "0                                              False                         \n",
      "1                                              False                         \n",
      "2                                              False                         \n",
      "3                                              False                         \n",
      "4                                              False                         \n",
      "\n",
      "  Employment_Student, full-time;Not employed, but looking for work;Student, part-time  \\\n",
      "0                                              False                                    \n",
      "1                                              False                                    \n",
      "2                                              False                                    \n",
      "3                                              False                                    \n",
      "4                                              False                                    \n",
      "\n",
      "  Employment_Student, full-time;Retired  \\\n",
      "0                                 False   \n",
      "1                                 False   \n",
      "2                                 False   \n",
      "3                                 False   \n",
      "4                                 False   \n",
      "\n",
      "  Employment_Student, full-time;Student, part-time  \\\n",
      "0                                            False   \n",
      "1                                            False   \n",
      "2                                            False   \n",
      "3                                            False   \n",
      "4                                            False   \n",
      "\n",
      "  Employment_Student, full-time;Student, part-time;Employed, part-time  \\\n",
      "0                                              False                     \n",
      "1                                              False                     \n",
      "2                                              False                     \n",
      "3                                              False                     \n",
      "4                                              False                     \n",
      "\n",
      "  Employment_Student, full-time;Student, part-time;Retired  \\\n",
      "0                                              False         \n",
      "1                                              False         \n",
      "2                                              False         \n",
      "3                                              False         \n",
      "4                                              False         \n",
      "\n",
      "  Employment_Student, part-time  \\\n",
      "0                         False   \n",
      "1                         False   \n",
      "2                         False   \n",
      "3                         False   \n",
      "4                         False   \n",
      "\n",
      "  Employment_Student, part-time;Employed, part-time  \\\n",
      "0                                             False   \n",
      "1                                             False   \n",
      "2                                             False   \n",
      "3                                             False   \n",
      "4                                             False   \n",
      "\n",
      "  Employment_Student, part-time;Retired  \n",
      "0                                 False  \n",
      "1                                 False  \n",
      "2                                 False  \n",
      "3                                 False  \n",
      "4                                 False  \n",
      "\n",
      "[5 rows x 223 columns]\n"
     ]
    }
   ],
   "source": [
    "## Write your code here\n",
    "\n",
    "# Perform one-hot encoding on the \"Employment\" column\n",
    "if \"Employment\" in df.columns:\n",
    "    employment_encoded = pd.get_dummies(df[\"Employment\"], prefix=\"Employment\")\n",
    "\n",
    "    # Add the one-hot encoded columns back to the DataFrame\n",
    "    df = pd.concat([df, employment_encoded], axis=1)\n",
    "\n",
    "    # Drop the original \"Employment\" column\n",
    "    df = df.drop(\"Employment\", axis=1)\n",
    "\n",
    "    # Display the result\n",
    "    print(df.head())\n"
   ]
  },
  {
   "cell_type": "markdown",
   "metadata": {},
   "source": [
    "### 5. Handling Missing Values\n"
   ]
  },
  {
   "cell_type": "markdown",
   "metadata": {},
   "source": [
    "<h5>5.1 Identify columns with the highest number of missing values.</h5>\n"
   ]
  },
  {
   "cell_type": "code",
   "execution_count": 56,
   "metadata": {},
   "outputs": [
    {
     "name": "stdout",
     "output_type": "stream",
     "text": [
      "Columns with the highest number of missing values:\n",
      "AINextMuch less integrated    64289\n",
      "AINextLess integrated         63082\n",
      "AINextNo change               52939\n",
      "AINextMuch more integrated    51999\n",
      "EmbeddedAdmired               48704\n",
      "                              ...  \n",
      "YearsCode                      5568\n",
      "NEWSOSites                     5151\n",
      "LearnCode                      4949\n",
      "EdLevel                        4653\n",
      "AISelect                       4530\n",
      "Length: 109, dtype: int64\n"
     ]
    }
   ],
   "source": [
    "## Write your code here\n",
    "\n",
    "# Count missing values in each column\n",
    "missing_values = df.isnull().sum()\n",
    "\n",
    "# Sort columns by the number of missing values in descending order\n",
    "missing_values_sorted = missing_values.sort_values(ascending=False)\n",
    "\n",
    "# Filter and display columns with at least one missing value\n",
    "columns_with_missing_values = missing_values_sorted[missing_values_sorted > 0]\n",
    "\n",
    "print(\"Columns with the highest number of missing values:\")\n",
    "print(columns_with_missing_values)\n"
   ]
  },
  {
   "cell_type": "markdown",
   "metadata": {},
   "source": [
    "<h5>5.2 Impute missing values in numerical columns (e.g., `ConvertedCompYearly`) with the mean or median.</h5>\n"
   ]
  },
  {
   "cell_type": "code",
   "execution_count": 58,
   "metadata": {},
   "outputs": [
    {
     "name": "stdout",
     "output_type": "stream",
     "text": [
      "Missing values in 'ConvertedCompYearly' imputed with the mean.\n",
      "\n",
      "Missing values in the column after imputation: 0\n"
     ]
    }
   ],
   "source": [
    "## Write your code here\n",
    "\n",
    "\n",
    "# Column name ConvertedCompYearly\n",
    "column_to_impute = \"ConvertedCompYearly\"\n",
    "\n",
    "# Check if the column exists in the DataFrame\n",
    "if column_to_impute in df.columns:\n",
    "    # Impute missing values with the mean or median\n",
    "    mean_value = df[column_to_impute].mean()\n",
    "    median_value = df[column_to_impute].median()\n",
    "\n",
    "    # Impute with mean\n",
    "    #df[column_to_impute] = df[column_to_impute].fillna(mean_value)\n",
    "    # Impute with median (alternative to mean)\n",
    "    df[column_to_impute] = df[column_to_impute].fillna(median_value)\n",
    "\n",
    "print(f\"Missing values in '{column_to_impute}' imputed with the {'mean' if df[column_to_impute].equals(df[column_to_impute].fillna(mean_value)) else 'median'}.\")\n",
    "\n",
    "    # Check for missing values after imputation\n",
    "print(\"\\nMissing values in the column after imputation:\", df[column_to_impute].isnull().sum())"
   ]
  },
  {
   "cell_type": "markdown",
   "metadata": {},
   "source": [
    "<h5>5.3 Impute missing values in categorical columns (e.g., `RemoteWork`) with the most frequent value.</h5>\n"
   ]
  },
  {
   "cell_type": "code",
   "execution_count": 62,
   "metadata": {},
   "outputs": [
    {
     "name": "stdout",
     "output_type": "stream",
     "text": [
      "Missing values in 'RemoteWork' imputed with the most frequent value: 'Hybrid (some remote, some in-person)'.\n",
      "\n",
      "Missing values in the column after imputation: 0\n",
      "Missing values in 'RemoteWork' imputed with the most frequent value: 'Hybrid (some remote, some in-person)'.\n",
      "\n",
      "Missing values in the column after imputation: 0\n"
     ]
    }
   ],
   "source": [
    "## Write your code here\n",
    "\n",
    "\n",
    "# Column name  \"RemoteWork\"\n",
    "column_to_impute = \"RemoteWork\"\n",
    "\n",
    "# Check if the column exists in the DataFrame\n",
    "if column_to_impute in df.columns:\n",
    "    # Find the most frequent (mode) value in the categorical column\n",
    "    most_frequent_value = df[column_to_impute].mode()[0]\n",
    "    \n",
    "# Impute missing values with the most frequent value (mode)\n",
    "df[column_to_impute] = df[column_to_impute].fillna(most_frequent_value)\n",
    "\n",
    "print(f\"Missing values in '{column_to_impute}' imputed with the most frequent value: '{most_frequent_value}'.\")\n",
    "\n",
    "# Check for missing values after imputation\n",
    "print(\"\\nMissing values in the column after imputation:\", df[column_to_impute].isnull().sum())\n",
    "\n",
    "\n",
    "# Check if the column exists in the DataFrame\n",
    "if column_to_impute in df.columns:\n",
    "   # Find the most frequent (mode) value in the categorical column\n",
    "   most_frequent_value = df[column_to_impute].mode()[0]\n",
    "\n",
    "# Impute missing values with the most frequent value (mode)\n",
    "df[column_to_impute] = df[column_to_impute].fillna(most_frequent_value)\n",
    "\n",
    "print(f\"Missing values in '{column_to_impute}' imputed with the most frequent value: '{most_frequent_value}'.\")\n",
    "\n",
    "# Check for missing values after imputation\n",
    "print(\"\\nMissing values in the column after imputation:\", df[column_to_impute].isnull().sum())\n"
   ]
  },
  {
   "cell_type": "markdown",
   "metadata": {},
   "source": [
    "### 6. Feature Scaling and Transformation\n"
   ]
  },
  {
   "cell_type": "markdown",
   "metadata": {},
   "source": [
    "<h5>6.1 Apply Min-Max Scaling to normalize the `ConvertedCompYearly` column.</h5>\n"
   ]
  },
  {
   "cell_type": "code",
   "execution_count": 64,
   "metadata": {},
   "outputs": [
    {
     "name": "stdout",
     "output_type": "stream",
     "text": [
      "Min-Max scaling applied to 'ConvertedCompYearly'.\n",
      "   ConvertedCompYearly\n",
      "0             0.003998\n",
      "1             0.003998\n",
      "2             0.003998\n",
      "3             0.003998\n",
      "4             0.003998\n"
     ]
    }
   ],
   "source": [
    "\n",
    "from sklearn.preprocessing import MinMaxScaler  # Importing MinMaxScaler\n",
    "\n",
    "\n",
    "# Column to normalize\n",
    "column_to_normalize = \"ConvertedCompYearly\"\n",
    "\n",
    "# Check if the column exists in the DataFrame\n",
    "if column_to_normalize in df.columns:\n",
    "    # Initialize MinMaxScaler\n",
    "    scaler = MinMaxScaler()\n",
    "\n",
    "    # Reshape the column to be a 2D array (required for MinMaxScaler)\n",
    "    df[column_to_normalize] = scaler.fit_transform(df[[column_to_normalize]])\n",
    "\n",
    "    # Display the result\n",
    "    print(f\"Min-Max scaling applied to '{column_to_normalize}'.\")\n",
    "    print(df[[column_to_normalize]].head())\n"
   ]
  },
  {
   "cell_type": "markdown",
   "metadata": {},
   "source": [
    "<h5>6.2 Log-transform the ConvertedCompYearly column to reduce skewness.</h5>\n"
   ]
  },
  {
   "cell_type": "code",
   "execution_count": 65,
   "metadata": {},
   "outputs": [
    {
     "name": "stdout",
     "output_type": "stream",
     "text": [
      "Log-transformation applied to 'ConvertedCompYearly'.\n",
      "   ConvertedCompYearly\n",
      "0            -5.521882\n",
      "1            -5.521882\n",
      "2            -5.521882\n",
      "3            -5.521882\n",
      "4            -5.521882\n"
     ]
    }
   ],
   "source": [
    "## Write your code here\n",
    "\n",
    "import numpy as np  # Import numpy for log transformation\n",
    "\n",
    "\n",
    "# Column to log-transform\n",
    "column_to_transform = \"ConvertedCompYearly\"\n",
    "\n",
    "# Check if the column exists in the DataFrame\n",
    "if column_to_transform in df.columns:\n",
    "    # Add a small constant to avoid log(0), which is undefined\n",
    "    df[column_to_transform] = df[column_to_transform].apply(lambda x: np.log(x) if x > 0 else 0)\n",
    "\n",
    "    # Display the result\n",
    "    print(f\"Log-transformation applied to '{column_to_transform}'.\")\n",
    "    print(df[[column_to_transform]].head())"
   ]
  },
  {
   "cell_type": "markdown",
   "metadata": {},
   "source": [
    "### 7. Feature Engineering\n"
   ]
  },
  {
   "cell_type": "markdown",
   "metadata": {},
   "source": [
    "<h5>7.1 Create a new column `ExperienceLevel` based on the `YearsCodePro` column:</h5>\n"
   ]
  },
  {
   "cell_type": "code",
   "execution_count": 67,
   "metadata": {},
   "outputs": [
    {
     "name": "stdout",
     "output_type": "stream",
     "text": [
      "Experience level added based on 'YearsCodePro':\n",
      "   YearsCodePro ExperienceLevel\n",
      "0           NaN         Unknown\n",
      "1          17.0    Expert-level\n",
      "2          27.0    Expert-level\n",
      "3           NaN         Unknown\n",
      "4           NaN         Unknown\n"
     ]
    }
   ],
   "source": [
    "import pandas as pd\n",
    "\n",
    "# Column to base the experience level on\n",
    "column_to_base = \"YearsCodePro\"\n",
    "\n",
    "# Check if the column exists in the DataFrame\n",
    "if column_to_base in df.columns:\n",
    "    # Convert YearsCodePro to numeric values, coercing errors to NaN (in case of non-numeric values)\n",
    "    df[column_to_base] = pd.to_numeric(df[column_to_base], errors='coerce')\n",
    "\n",
    "    # Function to categorize experience level based on YearsCodePro\n",
    "    def categorize_experience(years):\n",
    "        if pd.isnull(years):  # Handle missing values\n",
    "            return \"Unknown\"\n",
    "        elif years <= 2:\n",
    "            return \"Entry-level\"\n",
    "        elif years <= 5:\n",
    "            return \"Mid-level\"\n",
    "        elif years <= 10:\n",
    "            return \"Senior-level\"\n",
    "        else:\n",
    "            return \"Expert-level\"\n",
    "\n",
    "    # Apply the function to create the new 'ExperienceLevel' column\n",
    "    df['ExperienceLevel'] = df[column_to_base].apply(categorize_experience)\n",
    "\n",
    "    # Display the result\n",
    "    print(\"Experience level added based on 'YearsCodePro':\")\n",
    "    print(df[['YearsCodePro', 'ExperienceLevel']].head())"
   ]
  },
  {
   "cell_type": "markdown",
   "metadata": {},
   "source": [
    "### Summary\n"
   ]
  },
  {
   "cell_type": "markdown",
   "metadata": {},
   "source": [
    "In this lab, you:\n",
    "\n",
    "- Explored the dataset to identify inconsistencies and missing values.\n",
    "\n",
    "- Encoded categorical variables for analysis.\n",
    "\n",
    "- Handled missing values using imputation techniques.\n",
    "\n",
    "- Normalized and transformed numerical data to prepare it for analysis.\n",
    "\n",
    "- Engineered a new feature to enhance data interpretation.\n"
   ]
  },
  {
   "cell_type": "markdown",
   "metadata": {},
   "source": [
    "Copyright © IBM Corporation. All rights reserved.\n"
   ]
  }
 ],
 "metadata": {
  "kernelspec": {
   "display_name": "Python 3 (ipykernel)",
   "language": "python",
   "name": "python3"
  },
  "language_info": {
   "codemirror_mode": {
    "name": "ipython",
    "version": 3
   },
   "file_extension": ".py",
   "mimetype": "text/x-python",
   "name": "python",
   "nbconvert_exporter": "python",
   "pygments_lexer": "ipython3",
   "version": "3.12.8"
  },
  "prev_pub_hash": "1e8e234f19fd098e27b0518a87f18de690e1c51f1d3263d5690927d19971251e"
 },
 "nbformat": 4,
 "nbformat_minor": 4
}
